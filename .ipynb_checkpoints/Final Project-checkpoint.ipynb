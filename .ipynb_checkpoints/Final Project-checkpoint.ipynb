{
 "cells": [
  {
   "cell_type": "code",
   "execution_count": 45,
   "metadata": {},
   "outputs": [
    {
     "name": "stdout",
     "output_type": "stream",
     "text": [
      "Requirement already satisfied: html5lib in /opt/conda/lib/python3.8/site-packages (1.1)\n",
      "Requirement already satisfied: six>=1.9 in /opt/conda/lib/python3.8/site-packages (from html5lib) (1.15.0)\n",
      "Requirement already satisfied: webencodings in /opt/conda/lib/python3.8/site-packages (from html5lib) (0.5.1)\n",
      "Requirement already satisfied: sodapy in /opt/conda/lib/python3.8/site-packages (2.1.0)\n",
      "Requirement already satisfied: requests>=2.20.0 in /opt/conda/lib/python3.8/site-packages (from sodapy) (2.24.0)\n",
      "Requirement already satisfied: chardet<4,>=3.0.2 in /opt/conda/lib/python3.8/site-packages (from requests>=2.20.0->sodapy) (3.0.4)\n",
      "Requirement already satisfied: urllib3!=1.25.0,!=1.25.1,<1.26,>=1.21.1 in /opt/conda/lib/python3.8/site-packages (from requests>=2.20.0->sodapy) (1.25.10)\n",
      "Requirement already satisfied: certifi>=2017.4.17 in /opt/conda/lib/python3.8/site-packages (from requests>=2.20.0->sodapy) (2020.6.20)\n",
      "Requirement already satisfied: idna<3,>=2.5 in /opt/conda/lib/python3.8/site-packages (from requests>=2.20.0->sodapy) (2.10)\n"
     ]
    }
   ],
   "source": [
    "!pip3 install html5lib\n",
    "import requests\n",
    "from bs4 import BeautifulSoup\n",
    "import pandas as pd\n",
    "!pip3 install sodapy\n",
    "from sodapy import Socrata"
   ]
  },
  {
   "cell_type": "code",
   "execution_count": 46,
   "metadata": {},
   "outputs": [
    {
     "data": {
      "text/html": [
       "<div>\n",
       "<style scoped>\n",
       "    .dataframe tbody tr th:only-of-type {\n",
       "        vertical-align: middle;\n",
       "    }\n",
       "\n",
       "    .dataframe tbody tr th {\n",
       "        vertical-align: top;\n",
       "    }\n",
       "\n",
       "    .dataframe thead th {\n",
       "        text-align: right;\n",
       "    }\n",
       "</style>\n",
       "<table border=\"1\" class=\"dataframe\">\n",
       "  <thead>\n",
       "    <tr style=\"text-align: right;\">\n",
       "      <th></th>\n",
       "      <th>seq_id</th>\n",
       "      <th>date_of_stop</th>\n",
       "      <th>time_of_stop</th>\n",
       "      <th>agency</th>\n",
       "      <th>subagency</th>\n",
       "      <th>description</th>\n",
       "      <th>location</th>\n",
       "      <th>latitude</th>\n",
       "      <th>longitude</th>\n",
       "      <th>accident</th>\n",
       "      <th>...</th>\n",
       "      <th>:@computed_region_kbsp_ykn9</th>\n",
       "      <th>:@computed_region_d7bw_bq6x</th>\n",
       "      <th>:@computed_region_rbt8_3x7n</th>\n",
       "      <th>search_conducted</th>\n",
       "      <th>search_outcome</th>\n",
       "      <th>search_reason_for_stop</th>\n",
       "      <th>search_disposition</th>\n",
       "      <th>search_reason</th>\n",
       "      <th>search_type</th>\n",
       "      <th>search_arrest_reason</th>\n",
       "    </tr>\n",
       "  </thead>\n",
       "  <tbody>\n",
       "    <tr>\n",
       "      <th>0</th>\n",
       "      <td>934e4a53-bf83-4da1-8206-3c135d9ee350</td>\n",
       "      <td>2020-11-20T00:00:00.000</td>\n",
       "      <td>22:53:00</td>\n",
       "      <td>MCP</td>\n",
       "      <td>2nd District, Bethesda</td>\n",
       "      <td>FAILURE TO DISPLAY TWO LIGHTED FRONT LAMPS WHE...</td>\n",
       "      <td>ROCKVILLE PIKE AT EDMONSTON DR</td>\n",
       "      <td>39.0750783333333</td>\n",
       "      <td>-77.133821</td>\n",
       "      <td>No</td>\n",
       "      <td>...</td>\n",
       "      <td>25</td>\n",
       "      <td>68</td>\n",
       "      <td>12</td>\n",
       "      <td>NaN</td>\n",
       "      <td>NaN</td>\n",
       "      <td>NaN</td>\n",
       "      <td>NaN</td>\n",
       "      <td>NaN</td>\n",
       "      <td>NaN</td>\n",
       "      <td>NaN</td>\n",
       "    </tr>\n",
       "    <tr>\n",
       "      <th>1</th>\n",
       "      <td>8bf263e5-a9ce-434d-bb56-113ff6020d48</td>\n",
       "      <td>2020-11-20T00:00:00.000</td>\n",
       "      <td>22:42:00</td>\n",
       "      <td>MCP</td>\n",
       "      <td>3rd District, Silver Spring</td>\n",
       "      <td>EXCEEDING THE POSTED SPEED LIMIT OF 50 MPH</td>\n",
       "      <td>29 NORTH &amp; GREEN CASTLE BLVD</td>\n",
       "      <td>39.0941343333333</td>\n",
       "      <td>-76.9388291666667</td>\n",
       "      <td>No</td>\n",
       "      <td>...</td>\n",
       "      <td>53</td>\n",
       "      <td>47</td>\n",
       "      <td>1</td>\n",
       "      <td>NaN</td>\n",
       "      <td>NaN</td>\n",
       "      <td>NaN</td>\n",
       "      <td>NaN</td>\n",
       "      <td>NaN</td>\n",
       "      <td>NaN</td>\n",
       "      <td>NaN</td>\n",
       "    </tr>\n",
       "    <tr>\n",
       "      <th>2</th>\n",
       "      <td>88a3318d-aa40-4666-9e1e-00cdb91b7aa2</td>\n",
       "      <td>2020-11-20T00:00:00.000</td>\n",
       "      <td>22:41:00</td>\n",
       "      <td>MCP</td>\n",
       "      <td>3rd District, Silver Spring</td>\n",
       "      <td>DRIVER OF MOTOR VEHICLE FOLLOWING VEHICLE CLOS...</td>\n",
       "      <td>GEROGIA AVE/ UNIVERSITY BLVD</td>\n",
       "      <td>39.0452711666667</td>\n",
       "      <td>-77.0521368333333</td>\n",
       "      <td>No</td>\n",
       "      <td>...</td>\n",
       "      <td>16</td>\n",
       "      <td>17</td>\n",
       "      <td>1</td>\n",
       "      <td>No</td>\n",
       "      <td>Warning</td>\n",
       "      <td>21-801.1</td>\n",
       "      <td>NaN</td>\n",
       "      <td>NaN</td>\n",
       "      <td>NaN</td>\n",
       "      <td>NaN</td>\n",
       "    </tr>\n",
       "    <tr>\n",
       "      <th>3</th>\n",
       "      <td>88a3318d-aa40-4666-9e1e-00cdb91b7aa2</td>\n",
       "      <td>2020-11-20T00:00:00.000</td>\n",
       "      <td>22:41:00</td>\n",
       "      <td>MCP</td>\n",
       "      <td>3rd District, Silver Spring</td>\n",
       "      <td>DRIVER FAILURE TO OBEY PROPERLY PLACED TRAFFIC...</td>\n",
       "      <td>GEROGIA AVE/ UNIVERSITY BLVD</td>\n",
       "      <td>39.0452711666667</td>\n",
       "      <td>-77.0521368333333</td>\n",
       "      <td>No</td>\n",
       "      <td>...</td>\n",
       "      <td>16</td>\n",
       "      <td>17</td>\n",
       "      <td>1</td>\n",
       "      <td>No</td>\n",
       "      <td>Warning</td>\n",
       "      <td>21-801.1</td>\n",
       "      <td>NaN</td>\n",
       "      <td>NaN</td>\n",
       "      <td>NaN</td>\n",
       "      <td>NaN</td>\n",
       "    </tr>\n",
       "    <tr>\n",
       "      <th>4</th>\n",
       "      <td>88a3318d-aa40-4666-9e1e-00cdb91b7aa2</td>\n",
       "      <td>2020-11-20T00:00:00.000</td>\n",
       "      <td>22:41:00</td>\n",
       "      <td>MCP</td>\n",
       "      <td>3rd District, Silver Spring</td>\n",
       "      <td>EXCEEDING THE POSTED SPEED LIMIT OF 35 MPH</td>\n",
       "      <td>GEROGIA AVE/ UNIVERSITY BLVD</td>\n",
       "      <td>39.0452711666667</td>\n",
       "      <td>-77.0521368333333</td>\n",
       "      <td>No</td>\n",
       "      <td>...</td>\n",
       "      <td>16</td>\n",
       "      <td>17</td>\n",
       "      <td>1</td>\n",
       "      <td>No</td>\n",
       "      <td>Warning</td>\n",
       "      <td>21-801.1</td>\n",
       "      <td>NaN</td>\n",
       "      <td>NaN</td>\n",
       "      <td>NaN</td>\n",
       "      <td>NaN</td>\n",
       "    </tr>\n",
       "  </tbody>\n",
       "</table>\n",
       "<p>5 rows × 48 columns</p>\n",
       "</div>"
      ],
      "text/plain": [
       "                                 seq_id             date_of_stop time_of_stop  \\\n",
       "0  934e4a53-bf83-4da1-8206-3c135d9ee350  2020-11-20T00:00:00.000     22:53:00   \n",
       "1  8bf263e5-a9ce-434d-bb56-113ff6020d48  2020-11-20T00:00:00.000     22:42:00   \n",
       "2  88a3318d-aa40-4666-9e1e-00cdb91b7aa2  2020-11-20T00:00:00.000     22:41:00   \n",
       "3  88a3318d-aa40-4666-9e1e-00cdb91b7aa2  2020-11-20T00:00:00.000     22:41:00   \n",
       "4  88a3318d-aa40-4666-9e1e-00cdb91b7aa2  2020-11-20T00:00:00.000     22:41:00   \n",
       "\n",
       "  agency                    subagency  \\\n",
       "0    MCP       2nd District, Bethesda   \n",
       "1    MCP  3rd District, Silver Spring   \n",
       "2    MCP  3rd District, Silver Spring   \n",
       "3    MCP  3rd District, Silver Spring   \n",
       "4    MCP  3rd District, Silver Spring   \n",
       "\n",
       "                                         description  \\\n",
       "0  FAILURE TO DISPLAY TWO LIGHTED FRONT LAMPS WHE...   \n",
       "1         EXCEEDING THE POSTED SPEED LIMIT OF 50 MPH   \n",
       "2  DRIVER OF MOTOR VEHICLE FOLLOWING VEHICLE CLOS...   \n",
       "3  DRIVER FAILURE TO OBEY PROPERLY PLACED TRAFFIC...   \n",
       "4         EXCEEDING THE POSTED SPEED LIMIT OF 35 MPH   \n",
       "\n",
       "                         location          latitude          longitude  \\\n",
       "0  ROCKVILLE PIKE AT EDMONSTON DR  39.0750783333333         -77.133821   \n",
       "1    29 NORTH & GREEN CASTLE BLVD  39.0941343333333  -76.9388291666667   \n",
       "2    GEROGIA AVE/ UNIVERSITY BLVD  39.0452711666667  -77.0521368333333   \n",
       "3    GEROGIA AVE/ UNIVERSITY BLVD  39.0452711666667  -77.0521368333333   \n",
       "4    GEROGIA AVE/ UNIVERSITY BLVD  39.0452711666667  -77.0521368333333   \n",
       "\n",
       "  accident  ... :@computed_region_kbsp_ykn9 :@computed_region_d7bw_bq6x  \\\n",
       "0       No  ...                          25                          68   \n",
       "1       No  ...                          53                          47   \n",
       "2       No  ...                          16                          17   \n",
       "3       No  ...                          16                          17   \n",
       "4       No  ...                          16                          17   \n",
       "\n",
       "  :@computed_region_rbt8_3x7n search_conducted search_outcome  \\\n",
       "0                          12              NaN            NaN   \n",
       "1                           1              NaN            NaN   \n",
       "2                           1               No        Warning   \n",
       "3                           1               No        Warning   \n",
       "4                           1               No        Warning   \n",
       "\n",
       "  search_reason_for_stop search_disposition search_reason search_type  \\\n",
       "0                    NaN                NaN           NaN         NaN   \n",
       "1                    NaN                NaN           NaN         NaN   \n",
       "2               21-801.1                NaN           NaN         NaN   \n",
       "3               21-801.1                NaN           NaN         NaN   \n",
       "4               21-801.1                NaN           NaN         NaN   \n",
       "\n",
       "  search_arrest_reason  \n",
       "0                  NaN  \n",
       "1                  NaN  \n",
       "2                  NaN  \n",
       "3                  NaN  \n",
       "4                  NaN  \n",
       "\n",
       "[5 rows x 48 columns]"
      ]
     },
     "execution_count": 46,
     "metadata": {},
     "output_type": "execute_result"
    }
   ],
   "source": [
    "#data collection\n",
    "#we can access the dataset via the SODA API\n",
    "#since the dataset has too many rows, we will only process the first 100 thousand rows.\n",
    "client = Socrata(\"data.montgomerycountymd.gov\", 'IXCx2ihjCYo4RF9slAVzYL2x9')\n",
    "results = client.get(\"4mse-ku6q\",limit=100000)\n",
    "df = pd.DataFrame.from_records(results)\n",
    "df.head()"
   ]
  },
  {
   "cell_type": "code",
   "execution_count": 47,
   "metadata": {},
   "outputs": [],
   "source": [
    "#data processing\n",
    "#dont need some of these columns so we can drop them\n",
    "df = df.drop(['color','vehicle_type','hazmat','work_zone','alcohol','commercial_vehicle','commercial_license','arrest_type'],axis = 1)\n",
    "df = df.drop(['property_damage','model','search_outcome','search_reason_for_stop','search_conducted','contributed_to_accident'],axis = 1)\n",
    "df = df.drop(['fatal','accident','belts','personal_injury','article','driver_state','dl_state',':@computed_region_vu5j_pcmz',':@computed_region_rbt8_3x7n'],axis = 1)\n",
    "df = df.drop([':@computed_region_kbsp_ykn9',':@computed_region_tx5f_5em3','geolocation','seq_id','agency','latitude'], axis = 1)\n",
    "df = df.drop(['longitude',':@computed_region_d7bw_bq6x','search_disposition','search_reason','search_type','search_arrest_reason'],axis = 1)"
   ]
  },
  {
   "cell_type": "code",
   "execution_count": 48,
   "metadata": {},
   "outputs": [
    {
     "data": {
      "text/html": [
       "<div>\n",
       "<style scoped>\n",
       "    .dataframe tbody tr th:only-of-type {\n",
       "        vertical-align: middle;\n",
       "    }\n",
       "\n",
       "    .dataframe tbody tr th {\n",
       "        vertical-align: top;\n",
       "    }\n",
       "\n",
       "    .dataframe thead th {\n",
       "        text-align: right;\n",
       "    }\n",
       "</style>\n",
       "<table border=\"1\" class=\"dataframe\">\n",
       "  <thead>\n",
       "    <tr style=\"text-align: right;\">\n",
       "      <th></th>\n",
       "      <th>date_of_stop</th>\n",
       "      <th>time_of_stop</th>\n",
       "      <th>subagency</th>\n",
       "      <th>description</th>\n",
       "      <th>location</th>\n",
       "      <th>state</th>\n",
       "      <th>year</th>\n",
       "      <th>make</th>\n",
       "      <th>violation_type</th>\n",
       "      <th>charge</th>\n",
       "      <th>race</th>\n",
       "      <th>gender</th>\n",
       "      <th>driver_city</th>\n",
       "      <th>month</th>\n",
       "    </tr>\n",
       "  </thead>\n",
       "  <tbody>\n",
       "    <tr>\n",
       "      <th>0</th>\n",
       "      <td>4</td>\n",
       "      <td>22</td>\n",
       "      <td>3rd District, Silver Spring</td>\n",
       "      <td>EXCEEDING THE POSTED SPEED LIMIT OF 50 MPH</td>\n",
       "      <td>29 NORTH &amp; GREEN CASTLE BLVD</td>\n",
       "      <td>MD</td>\n",
       "      <td>1999</td>\n",
       "      <td>MITS</td>\n",
       "      <td>Warning</td>\n",
       "      <td>21-801</td>\n",
       "      <td>BLACK</td>\n",
       "      <td>M</td>\n",
       "      <td>SILVER SPRING</td>\n",
       "      <td>11</td>\n",
       "    </tr>\n",
       "    <tr>\n",
       "      <th>1</th>\n",
       "      <td>4</td>\n",
       "      <td>22</td>\n",
       "      <td>3rd District, Silver Spring</td>\n",
       "      <td>DRIVER FAILURE TO OBEY PROPERLY PLACED TRAFFIC...</td>\n",
       "      <td>GEROGIA AVE/ UNIVERSITY BLVD</td>\n",
       "      <td>MD</td>\n",
       "      <td>2020</td>\n",
       "      <td>TOYT</td>\n",
       "      <td>Warning</td>\n",
       "      <td>21-201</td>\n",
       "      <td>HISPANIC</td>\n",
       "      <td>M</td>\n",
       "      <td>SILVER SPRING</td>\n",
       "      <td>11</td>\n",
       "    </tr>\n",
       "    <tr>\n",
       "      <th>2</th>\n",
       "      <td>4</td>\n",
       "      <td>22</td>\n",
       "      <td>3rd District, Silver Spring</td>\n",
       "      <td>EXCEEDING THE POSTED SPEED LIMIT OF 35 MPH</td>\n",
       "      <td>GEROGIA AVE/ UNIVERSITY BLVD</td>\n",
       "      <td>MD</td>\n",
       "      <td>2020</td>\n",
       "      <td>TOYT</td>\n",
       "      <td>Warning</td>\n",
       "      <td>21-801</td>\n",
       "      <td>HISPANIC</td>\n",
       "      <td>M</td>\n",
       "      <td>SILVER SPRING</td>\n",
       "      <td>11</td>\n",
       "    </tr>\n",
       "    <tr>\n",
       "      <th>3</th>\n",
       "      <td>4</td>\n",
       "      <td>22</td>\n",
       "      <td>2nd District, Bethesda</td>\n",
       "      <td>DRIVER FAILURE TO OBEY PROPERLY PLACED TRAFFIC...</td>\n",
       "      <td>MUNCASTER MILL RD AND SHADY GROV RD</td>\n",
       "      <td>MD</td>\n",
       "      <td>2017</td>\n",
       "      <td>HYUNDAY</td>\n",
       "      <td>Warning</td>\n",
       "      <td>21-201</td>\n",
       "      <td>BLACK</td>\n",
       "      <td>F</td>\n",
       "      <td>LAUREL</td>\n",
       "      <td>11</td>\n",
       "    </tr>\n",
       "    <tr>\n",
       "      <th>4</th>\n",
       "      <td>4</td>\n",
       "      <td>22</td>\n",
       "      <td>2nd District, Bethesda</td>\n",
       "      <td>DRIVER USING HANDS TO USE HANDHELD TELEPHONE W...</td>\n",
       "      <td>MUNCASTER MILL RD AND SHADY GROV RD</td>\n",
       "      <td>MD</td>\n",
       "      <td>2017</td>\n",
       "      <td>HYUNDAY</td>\n",
       "      <td>Warning</td>\n",
       "      <td>21-112</td>\n",
       "      <td>BLACK</td>\n",
       "      <td>F</td>\n",
       "      <td>LAUREL</td>\n",
       "      <td>11</td>\n",
       "    </tr>\n",
       "  </tbody>\n",
       "</table>\n",
       "</div>"
      ],
      "text/plain": [
       "   date_of_stop  time_of_stop                    subagency  \\\n",
       "0             4            22  3rd District, Silver Spring   \n",
       "1             4            22  3rd District, Silver Spring   \n",
       "2             4            22  3rd District, Silver Spring   \n",
       "3             4            22       2nd District, Bethesda   \n",
       "4             4            22       2nd District, Bethesda   \n",
       "\n",
       "                                         description  \\\n",
       "0         EXCEEDING THE POSTED SPEED LIMIT OF 50 MPH   \n",
       "1  DRIVER FAILURE TO OBEY PROPERLY PLACED TRAFFIC...   \n",
       "2         EXCEEDING THE POSTED SPEED LIMIT OF 35 MPH   \n",
       "3  DRIVER FAILURE TO OBEY PROPERLY PLACED TRAFFIC...   \n",
       "4  DRIVER USING HANDS TO USE HANDHELD TELEPHONE W...   \n",
       "\n",
       "                              location state  year     make violation_type  \\\n",
       "0         29 NORTH & GREEN CASTLE BLVD    MD  1999     MITS        Warning   \n",
       "1         GEROGIA AVE/ UNIVERSITY BLVD    MD  2020     TOYT        Warning   \n",
       "2         GEROGIA AVE/ UNIVERSITY BLVD    MD  2020     TOYT        Warning   \n",
       "3  MUNCASTER MILL RD AND SHADY GROV RD    MD  2017  HYUNDAY        Warning   \n",
       "4  MUNCASTER MILL RD AND SHADY GROV RD    MD  2017  HYUNDAY        Warning   \n",
       "\n",
       "   charge      race gender    driver_city  month  \n",
       "0  21-801     BLACK      M  SILVER SPRING     11  \n",
       "1  21-201  HISPANIC      M  SILVER SPRING     11  \n",
       "2  21-801  HISPANIC      M  SILVER SPRING     11  \n",
       "3  21-201     BLACK      F         LAUREL     11  \n",
       "4  21-112     BLACK      F         LAUREL     11  "
      ]
     },
     "execution_count": 48,
     "metadata": {},
     "output_type": "execute_result"
    }
   ],
   "source": [
    "#some of the charge meaning\n",
    "#21-801 = speed charge\n",
    "#13-409 = FAILURE TO DISPLAY REGISTRATION CARD UPON DEMAND BY POLICE OFFICER\n",
    "#21-112 = Reckless driving(texting and driving)\n",
    "#21-201 = DRIVER FAILURE TO OBEY PROPERLY PLACED TRAFFIC CONTROL DEVICE INSTRUCTIONS\n",
    "#13-411 = DISPLAYING EXPIRED REGISTRATION PLATE ISSUED BY ANY STATE\n",
    "#We are going to focus more on the charges, but you can do it however you like\n",
    "#first we are going to focus on the more frequent charges. You can kind of tell just by looking at the df\n",
    "#there is a list of the 6 above\n",
    "#some charge have extra letter at the back, such as 21-801.1 and 21-801.1(b)\n",
    "#they are a pretty much the same, just a bit more specific, so we can put them in the same catagory\n",
    "#to do this, we are going to only take rows that have thesse charges\n",
    "#we start by making a new df and taking the first 6 letters of the charge by using regex. this gets rid of the \n",
    "#21-801.1(b) and 21-801.1 and turns it into 21-801 and 21-801, which is perfect\n",
    "#then we simply just compare it with the charge and if its true, make a map of that row and append it to the new df\n",
    "from datetime import datetime\n",
    "dict = []\n",
    "for row in df.itertuples():\n",
    "    charge = row[10][:6]\n",
    "    #it would probably be more useful if we get the day of the date, such as monday - sunday\n",
    "    #for this we will convert the string into a datetime object\n",
    "    # 0 = monday, 6 = sunday\n",
    "    date = row[1][:10]\n",
    "    date = datetime.strptime(row[1][5:7] +\" \"+ row[1][8:10] +\" \"+ row[1][:4], '%m %d %Y').weekday()\n",
    "    month = int(row[1][5:7])\n",
    "    #we are also going to add the time of the charge because it could be useful in out analysis\n",
    "    #we are going to ignore the minuite and second and just focus on the hour it happened\n",
    "    time = int(row[2][:2])\n",
    "    #and int(row[1][:4]) == 2020 is the year we want to analyz.\n",
    "    if((charge == '21-801' or charge == '13-409' or charge == '21-201' or charge == '21-112' or charge == '13-411') and int(row[1][:4]) == 2020):\n",
    "        new_row = {'date_of_stop':date, 'time_of_stop':time, 'subagency':row[3],'description':row[4],\n",
    "                  'location':row[5],'state':row[6],'year':row[7],'make':row[8],'violation_type':row[9],\n",
    "                   'charge':charge,'race':row[11],'gender':row[12],'driver_city':row[13],'month':month}\n",
    "        dict.append(new_row)\n",
    "df_charge = pd.DataFrame.from_dict(dict)\n",
    "df_charge.head()"
   ]
  },
  {
   "cell_type": "raw",
   "metadata": {},
   "source": []
  },
  {
   "cell_type": "code",
   "execution_count": 49,
   "metadata": {},
   "outputs": [],
   "source": [
    "#Exploratory analysisawd"
   ]
  },
  {
   "cell_type": "code",
   "execution_count": 50,
   "metadata": {},
   "outputs": [
    {
     "data": {
      "text/plain": [
       "(array([68278.,     0.,     0.,     0.,     0., 31439.,     0.,     0.,\n",
       "            0.,   283.]),\n",
       " array([0. , 0.2, 0.4, 0.6, 0.8, 1. , 1.2, 1.4, 1.6, 1.8, 2. ]),\n",
       " <a list of 10 Patch objects>)"
      ]
     },
     "execution_count": 50,
     "metadata": {},
     "output_type": "execute_result"
    },
    {
     "data": {
      "image/png": "[encoded data removed]",
      "text/plain": [
       "<Figure size 720x504 with 1 Axes>"
      ]
     },
     "metadata": {
      "needs_background": "light"
     },
     "output_type": "display_data"
    }
   ],
   "source": [
    "#get a better visual of this by making a hist graph\n",
    "import matplotlib.pyplot as plt\n",
    "#who can compare it in many ways, such as gender\n",
    "plt.figure(figsize=(10,7))\n",
    "plt.title('Charge count') \n",
    "plt.xlabel(\"gender type\") \n",
    "plt.ylabel(\"amount\") \n",
    "plt.hist(df['gender'])"
   ]
  },
  {
   "cell_type": "code",
   "execution_count": 51,
   "metadata": {},
   "outputs": [
    {
     "data": {
      "text/plain": [
       "(array([55900.,     0.,     0.,     0.,     0.,  3218.,     0.,     0.,\n",
       "            0., 40882.]),\n",
       " array([0. , 0.2, 0.4, 0.6, 0.8, 1. , 1.2, 1.4, 1.6, 1.8, 2. ]),\n",
       " <a list of 10 Patch objects>)"
      ]
     },
     "execution_count": 51,
     "metadata": {},
     "output_type": "execute_result"
    },
    {
     "data": {
      "image/png": "[encoded data removed]",
      "text/plain": [
       "<Figure size 432x288 with 1 Axes>"
      ]
     },
     "metadata": {
      "needs_background": "light"
     },
     "output_type": "display_data"
    }
   ],
   "source": [
    "#make\n",
    "plt.title('Charge count') \n",
    "plt.xlabel(\"violation_type type\") \n",
    "plt.ylabel(\"amount\") \n",
    "plt.hist(df['violation_type'])"
   ]
  },
  {
   "cell_type": "code",
   "execution_count": 52,
   "metadata": {},
   "outputs": [
    {
     "data": {
      "text/plain": [
       "(array([9.3973e+04, 2.5240e+03, 2.0330e+03, 6.1900e+02, 1.7100e+02,\n",
       "        2.6500e+02, 1.9800e+02, 9.8000e+01, 1.0400e+02, 1.5000e+01]),\n",
       " array([ 0. ,  5.6, 11.2, 16.8, 22.4, 28. , 33.6, 39.2, 44.8, 50.4, 56. ]),\n",
       " <a list of 10 Patch objects>)"
      ]
     },
     "execution_count": 52,
     "metadata": {},
     "output_type": "execute_result"
    },
    {
     "data": {
      "image/png": "[encoded data removed]",
      "text/plain": [
       "<Figure size 720x504 with 1 Axes>"
      ]
     },
     "metadata": {
      "needs_background": "light"
     },
     "output_type": "display_data"
    }
   ],
   "source": [
    "#state\n",
    "plt.figure(figsize=(10,7))\n",
    "plt.title('Charge count') \n",
    "plt.xlabel(\"state type\") \n",
    "plt.ylabel(\"amount\") \n",
    "plt.hist(df['state'])"
   ]
  },
  {
   "cell_type": "code",
   "execution_count": 53,
   "metadata": {},
   "outputs": [
    {
     "data": {
      "text/plain": [
       "(array([12026.,     0.,  5303.,     0.,     0.,  1851.,     0.,  2342.,\n",
       "            0.,  4205.]),\n",
       " array([0. , 0.4, 0.8, 1.2, 1.6, 2. , 2.4, 2.8, 3.2, 3.6, 4. ]),\n",
       " <a list of 10 Patch objects>)"
      ]
     },
     "execution_count": 53,
     "metadata": {},
     "output_type": "execute_result"
    },
    {
     "data": {
      "image/png": "[encoded data removed]",
      "text/plain": [
       "<Figure size 432x288 with 1 Axes>"
      ]
     },
     "metadata": {
      "needs_background": "light"
     },
     "output_type": "display_data"
    }
   ],
   "source": [
    "#we are going to moslty focus on the charge type\n",
    "plt.title('Charge count') \n",
    "plt.xlabel(\"charge type\") \n",
    "plt.ylabel(\"amount\") \n",
    "plt.hist(df_charge['charge'])"
   ]
  },
  {
   "cell_type": "code",
   "execution_count": 54,
   "metadata": {},
   "outputs": [],
   "source": [
    "#to getting a better picture of the charges, go deeper into it\n",
    "#lets see how many charges happen on that what weekday\n"
   ]
  },
  {
   "cell_type": "code",
   "execution_count": 55,
   "metadata": {},
   "outputs": [
    {
     "data": {
      "text/plain": [
       "(array([3263., 4558.,    0., 4658.,    0., 4342., 4268.,    0., 2400.,\n",
       "        2238.]),\n",
       " array([0. , 0.6, 1.2, 1.8, 2.4, 3. , 3.6, 4.2, 4.8, 5.4, 6. ]),\n",
       " <a list of 10 Patch objects>)"
      ]
     },
     "execution_count": 55,
     "metadata": {},
     "output_type": "execute_result"
    },
    {
     "data": {
      "image/png": "[encoded data removed]",
      "text/plain": [
       "<Figure size 1440x504 with 1 Axes>"
      ]
     },
     "metadata": {
      "needs_background": "light"
     },
     "output_type": "display_data"
    }
   ],
   "source": [
    "plt.figure(figsize=(20,7))\n",
    "plt.title('Charge count') \n",
    "plt.xlabel(\"day\") \n",
    "plt.ylabel(\"amount\") \n",
    "plt.hist(df_charge['date_of_stop'],align='mid',edgecolor='red')"
   ]
  },
  {
   "cell_type": "code",
   "execution_count": 56,
   "metadata": {},
   "outputs": [
    {
     "data": {
      "image/png": "[encoded data removed]",
      "text/plain": [
       "<Figure size 576x504 with 1 Axes>"
      ]
     },
     "metadata": {
      "needs_background": "light"
     },
     "output_type": "display_data"
    }
   ],
   "source": [
    "#can make a plot on date x  and time y\n",
    "plt.figure(figsize=(8,7))\n",
    "plt.title('Charge count') \n",
    "plt.xlabel(\"day\") \n",
    "plt.ylabel(\"time\") \n",
    "plt.scatter(df_charge['date_of_stop'],df_charge['time_of_stop'])\n",
    "plt.show()\n",
    "#this looks like shit, so we can get a better visual if we make a violin plot"
   ]
  },
  {
   "cell_type": "code",
   "execution_count": 57,
   "metadata": {},
   "outputs": [
    {
     "data": {
      "text/plain": [
       "<matplotlib.axes._subplots.AxesSubplot at 0x7f6c316eb190>"
      ]
     },
     "execution_count": 57,
     "metadata": {},
     "output_type": "execute_result"
    },
    {
     "data": {
      "image/png": "[encoded data removed]",
      "text/plain": [
       "<Figure size 432x288 with 1 Axes>"
      ]
     },
     "metadata": {
      "needs_background": "light"
     },
     "output_type": "display_data"
    }
   ],
   "source": [
    "import seaborn as sns\n",
    "#can make a plot on date x  and time y\n",
    "sns.violinplot(x = df_charge['date_of_stop'], y= df_charge['time_of_stop'],cut=0)"
   ]
  },
  {
   "cell_type": "code",
   "execution_count": 58,
   "metadata": {},
   "outputs": [],
   "source": [
    "#looking at this, it looks like at 0 - 4(mon to fri), which is monday, a lot of people have traffic violations at aroung 9am to 3pm. \n",
    "# They are probably rushing to work or something and not obeying the laws!\n",
    "#the weekends, 5 and 6 seem to have more around 12pm "
   ]
  },
  {
   "cell_type": "code",
   "execution_count": null,
   "metadata": {},
   "outputs": [],
   "source": []
  },
  {
   "cell_type": "code",
   "execution_count": 59,
   "metadata": {},
   "outputs": [
    {
     "data": {
      "text/plain": [
       "(array([5461., 5919., 3699.,  481., 2043.,  909.,  784., 1002., 1733.,\n",
       "        1946., 1750.]),\n",
       " array([ 1,  2,  3,  4,  5,  6,  7,  8,  9, 10, 11, 12]),\n",
       " <a list of 11 Patch objects>)"
      ]
     },
     "execution_count": 59,
     "metadata": {},
     "output_type": "execute_result"
    },
    {
     "data": {
      "image/png": "[encoded data removed]",
      "text/plain": [
       "<Figure size 720x504 with 1 Axes>"
      ]
     },
     "metadata": {
      "needs_background": "light"
     },
     "output_type": "display_data"
    }
   ],
   "source": [
    "import numpy as np\n",
    "bins = np.arange(1,13)\n",
    "plt.figure(figsize=(10,7))\n",
    "plt.title('Charge count') \n",
    "plt.xlabel(\"month\") \n",
    "plt.ylabel(\"amount\") \n",
    "plt.hist(df_charge['month'],align='mid',edgecolor='red',bins=bins)"
   ]
  },
  {
   "cell_type": "code",
   "execution_count": null,
   "metadata": {},
   "outputs": [],
   "source": [
    "#hypothesis testing and machine learning to provide analysis"
   ]
  },
  {
   "cell_type": "code",
   "execution_count": null,
   "metadata": {},
   "outputs": [],
   "source": []
  },
  {
   "cell_type": "code",
   "execution_count": null,
   "metadata": {},
   "outputs": [],
   "source": []
  }
 ],
 "metadata": {
  "kernelspec": {
   "display_name": "Python 3",
   "language": "python",
   "name": "python3"
  },
  "language_info": {
   "codemirror_mode": {
    "name": "ipython",
    "version": 3
   },
   "file_extension": ".py",
   "mimetype": "text/x-python",
   "name": "python",
   "nbconvert_exporter": "python",
   "pygments_lexer": "ipython3",
   "version": "3.8.5"
  }
 },
 "nbformat": 4,
 "nbformat_minor": 4
}
