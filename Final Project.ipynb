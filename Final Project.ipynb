{
 "cells": [
  {
   "cell_type": "code",
   "execution_count": 1,
   "metadata": {},
   "outputs": [
    {
     "name": "stdout",
     "output_type": "stream",
     "text": [
      "Collecting html5lib\n",
      "  Downloading html5lib-1.1-py2.py3-none-any.whl (112 kB)\n",
      "\u001b[K     |████████████████████████████████| 112 kB 5.2 MB/s eta 0:00:01\n",
      "\u001b[?25hRequirement already satisfied: six>=1.9 in /opt/conda/lib/python3.8/site-packages (from html5lib) (1.15.0)\n",
      "Requirement already satisfied: webencodings in /opt/conda/lib/python3.8/site-packages (from html5lib) (0.5.1)\n",
      "Installing collected packages: html5lib\n",
      "Successfully installed html5lib-1.1\n",
      "Collecting sodapy\n",
      "  Downloading sodapy-2.1.0-py2.py3-none-any.whl (14 kB)\n",
      "Requirement already satisfied: requests>=2.20.0 in /opt/conda/lib/python3.8/site-packages (from sodapy) (2.24.0)\n",
      "Requirement already satisfied: urllib3!=1.25.0,!=1.25.1,<1.26,>=1.21.1 in /opt/conda/lib/python3.8/site-packages (from requests>=2.20.0->sodapy) (1.25.10)\n",
      "Requirement already satisfied: chardet<4,>=3.0.2 in /opt/conda/lib/python3.8/site-packages (from requests>=2.20.0->sodapy) (3.0.4)\n",
      "Requirement already satisfied: idna<3,>=2.5 in /opt/conda/lib/python3.8/site-packages (from requests>=2.20.0->sodapy) (2.10)\n",
      "Requirement already satisfied: certifi>=2017.4.17 in /opt/conda/lib/python3.8/site-packages (from requests>=2.20.0->sodapy) (2020.6.20)\n",
      "Installing collected packages: sodapy\n",
      "Successfully installed sodapy-2.1.0\n"
     ]
    }
   ],
   "source": [
    "!pip3 install html5lib\n",
    "import requests\n",
    "from bs4 import BeautifulSoup\n",
    "import pandas as pd\n",
    "!pip3 install sodapy\n",
    "from sodapy import Socrata\n",
    "import decimal"
   ]
  },
  {
   "cell_type": "code",
   "execution_count": 2,
   "metadata": {},
   "outputs": [
    {
     "data": {
      "text/html": [
       "<div>\n",
       "<style scoped>\n",
       "    .dataframe tbody tr th:only-of-type {\n",
       "        vertical-align: middle;\n",
       "    }\n",
       "\n",
       "    .dataframe tbody tr th {\n",
       "        vertical-align: top;\n",
       "    }\n",
       "\n",
       "    .dataframe thead th {\n",
       "        text-align: right;\n",
       "    }\n",
       "</style>\n",
       "<table border=\"1\" class=\"dataframe\">\n",
       "  <thead>\n",
       "    <tr style=\"text-align: right;\">\n",
       "      <th></th>\n",
       "      <th>seq_id</th>\n",
       "      <th>date_of_stop</th>\n",
       "      <th>time_of_stop</th>\n",
       "      <th>agency</th>\n",
       "      <th>subagency</th>\n",
       "      <th>description</th>\n",
       "      <th>location</th>\n",
       "      <th>latitude</th>\n",
       "      <th>longitude</th>\n",
       "      <th>accident</th>\n",
       "      <th>...</th>\n",
       "      <th>:@computed_region_kbsp_ykn9</th>\n",
       "      <th>:@computed_region_d7bw_bq6x</th>\n",
       "      <th>:@computed_region_rbt8_3x7n</th>\n",
       "      <th>search_conducted</th>\n",
       "      <th>search_outcome</th>\n",
       "      <th>search_reason_for_stop</th>\n",
       "      <th>search_disposition</th>\n",
       "      <th>search_reason</th>\n",
       "      <th>search_type</th>\n",
       "      <th>search_arrest_reason</th>\n",
       "    </tr>\n",
       "  </thead>\n",
       "  <tbody>\n",
       "    <tr>\n",
       "      <th>0</th>\n",
       "      <td>938fe59f-78e2-41a0-ae3e-a93aa55aed75</td>\n",
       "      <td>2020-11-22T00:00:00.000</td>\n",
       "      <td>22:44:00</td>\n",
       "      <td>MCP</td>\n",
       "      <td>3rd District, Silver Spring</td>\n",
       "      <td>DRIVER USING HANDS TO USE HANDHELD TELEPHONE W...</td>\n",
       "      <td>BROADBIRCH DR / CHERRY HILL RD</td>\n",
       "      <td>39.0560966666667</td>\n",
       "      <td>-76.954595</td>\n",
       "      <td>No</td>\n",
       "      <td>...</td>\n",
       "      <td>21</td>\n",
       "      <td>12</td>\n",
       "      <td>1</td>\n",
       "      <td>NaN</td>\n",
       "      <td>NaN</td>\n",
       "      <td>NaN</td>\n",
       "      <td>NaN</td>\n",
       "      <td>NaN</td>\n",
       "      <td>NaN</td>\n",
       "      <td>NaN</td>\n",
       "    </tr>\n",
       "    <tr>\n",
       "      <th>1</th>\n",
       "      <td>0cf7b155-3d74-4059-895d-22177e62244b</td>\n",
       "      <td>2020-11-22T00:00:00.000</td>\n",
       "      <td>21:42:00</td>\n",
       "      <td>MCP</td>\n",
       "      <td>3rd District, Silver Spring</td>\n",
       "      <td>EXCEEDING POSTED MAXIMUM SPEED LIMIT: 60 MPH I...</td>\n",
       "      <td>NB 29/INDUSTRIAL</td>\n",
       "      <td>39.0574316666667</td>\n",
       "      <td>-76.9689533333333</td>\n",
       "      <td>No</td>\n",
       "      <td>...</td>\n",
       "      <td>53</td>\n",
       "      <td>12</td>\n",
       "      <td>1</td>\n",
       "      <td>NaN</td>\n",
       "      <td>NaN</td>\n",
       "      <td>NaN</td>\n",
       "      <td>NaN</td>\n",
       "      <td>NaN</td>\n",
       "      <td>NaN</td>\n",
       "      <td>NaN</td>\n",
       "    </tr>\n",
       "    <tr>\n",
       "      <th>2</th>\n",
       "      <td>0cf7b155-3d74-4059-895d-22177e62244b</td>\n",
       "      <td>2020-11-22T00:00:00.000</td>\n",
       "      <td>21:42:00</td>\n",
       "      <td>MCP</td>\n",
       "      <td>3rd District, Silver Spring</td>\n",
       "      <td>FAILURE TO EQUIP VEH. WITH REQ. REAR RED STOP ...</td>\n",
       "      <td>NB 29/INDUSTRIAL</td>\n",
       "      <td>39.0574316666667</td>\n",
       "      <td>-76.9689533333333</td>\n",
       "      <td>No</td>\n",
       "      <td>...</td>\n",
       "      <td>53</td>\n",
       "      <td>12</td>\n",
       "      <td>1</td>\n",
       "      <td>NaN</td>\n",
       "      <td>NaN</td>\n",
       "      <td>NaN</td>\n",
       "      <td>NaN</td>\n",
       "      <td>NaN</td>\n",
       "      <td>NaN</td>\n",
       "      <td>NaN</td>\n",
       "    </tr>\n",
       "    <tr>\n",
       "      <th>3</th>\n",
       "      <td>0cf7b155-3d74-4059-895d-22177e62244b</td>\n",
       "      <td>2020-11-22T00:00:00.000</td>\n",
       "      <td>21:42:00</td>\n",
       "      <td>MCP</td>\n",
       "      <td>3rd District, Silver Spring</td>\n",
       "      <td>DRIVER OF MOTOR VEHICLE FOLLOWING VEHICLE CLOS...</td>\n",
       "      <td>NB 29/INDUSTRIAL</td>\n",
       "      <td>39.0574316666667</td>\n",
       "      <td>-76.9689533333333</td>\n",
       "      <td>No</td>\n",
       "      <td>...</td>\n",
       "      <td>53</td>\n",
       "      <td>12</td>\n",
       "      <td>1</td>\n",
       "      <td>NaN</td>\n",
       "      <td>NaN</td>\n",
       "      <td>NaN</td>\n",
       "      <td>NaN</td>\n",
       "      <td>NaN</td>\n",
       "      <td>NaN</td>\n",
       "      <td>NaN</td>\n",
       "    </tr>\n",
       "    <tr>\n",
       "      <th>4</th>\n",
       "      <td>069f884b-f7ed-4eaa-b452-2f3e7f1bc8cb</td>\n",
       "      <td>2020-11-22T00:00:00.000</td>\n",
       "      <td>18:37:00</td>\n",
       "      <td>MCP</td>\n",
       "      <td>6th District, Gaithersburg / Montgomery Village</td>\n",
       "      <td>FAILURE OF MV OPER TO PRESENT EVIDENCE OF REQU...</td>\n",
       "      <td>MONTGOMERY VILLAGE AVE / STEDWICK</td>\n",
       "      <td>39.1712828333333</td>\n",
       "      <td>-77.2072026666667</td>\n",
       "      <td>No</td>\n",
       "      <td>...</td>\n",
       "      <td>38</td>\n",
       "      <td>28</td>\n",
       "      <td>1</td>\n",
       "      <td>No</td>\n",
       "      <td>Citation</td>\n",
       "      <td>21-402(a)</td>\n",
       "      <td>NaN</td>\n",
       "      <td>NaN</td>\n",
       "      <td>NaN</td>\n",
       "      <td>NaN</td>\n",
       "    </tr>\n",
       "  </tbody>\n",
       "</table>\n",
       "<p>5 rows × 48 columns</p>\n",
       "</div>"
      ],
      "text/plain": [
       "                                 seq_id             date_of_stop time_of_stop  \\\n",
       "0  938fe59f-78e2-41a0-ae3e-a93aa55aed75  2020-11-22T00:00:00.000     22:44:00   \n",
       "1  0cf7b155-3d74-4059-895d-22177e62244b  2020-11-22T00:00:00.000     21:42:00   \n",
       "2  0cf7b155-3d74-4059-895d-22177e62244b  2020-11-22T00:00:00.000     21:42:00   \n",
       "3  0cf7b155-3d74-4059-895d-22177e62244b  2020-11-22T00:00:00.000     21:42:00   \n",
       "4  069f884b-f7ed-4eaa-b452-2f3e7f1bc8cb  2020-11-22T00:00:00.000     18:37:00   \n",
       "\n",
       "  agency                                        subagency  \\\n",
       "0    MCP                      3rd District, Silver Spring   \n",
       "1    MCP                      3rd District, Silver Spring   \n",
       "2    MCP                      3rd District, Silver Spring   \n",
       "3    MCP                      3rd District, Silver Spring   \n",
       "4    MCP  6th District, Gaithersburg / Montgomery Village   \n",
       "\n",
       "                                         description  \\\n",
       "0  DRIVER USING HANDS TO USE HANDHELD TELEPHONE W...   \n",
       "1  EXCEEDING POSTED MAXIMUM SPEED LIMIT: 60 MPH I...   \n",
       "2  FAILURE TO EQUIP VEH. WITH REQ. REAR RED STOP ...   \n",
       "3  DRIVER OF MOTOR VEHICLE FOLLOWING VEHICLE CLOS...   \n",
       "4  FAILURE OF MV OPER TO PRESENT EVIDENCE OF REQU...   \n",
       "\n",
       "                            location          latitude          longitude  \\\n",
       "0     BROADBIRCH DR / CHERRY HILL RD  39.0560966666667         -76.954595   \n",
       "1                   NB 29/INDUSTRIAL  39.0574316666667  -76.9689533333333   \n",
       "2                   NB 29/INDUSTRIAL  39.0574316666667  -76.9689533333333   \n",
       "3                   NB 29/INDUSTRIAL  39.0574316666667  -76.9689533333333   \n",
       "4  MONTGOMERY VILLAGE AVE / STEDWICK  39.1712828333333  -77.2072026666667   \n",
       "\n",
       "  accident  ... :@computed_region_kbsp_ykn9 :@computed_region_d7bw_bq6x  \\\n",
       "0       No  ...                          21                          12   \n",
       "1       No  ...                          53                          12   \n",
       "2       No  ...                          53                          12   \n",
       "3       No  ...                          53                          12   \n",
       "4       No  ...                          38                          28   \n",
       "\n",
       "  :@computed_region_rbt8_3x7n search_conducted search_outcome  \\\n",
       "0                           1              NaN            NaN   \n",
       "1                           1              NaN            NaN   \n",
       "2                           1              NaN            NaN   \n",
       "3                           1              NaN            NaN   \n",
       "4                           1               No       Citation   \n",
       "\n",
       "  search_reason_for_stop search_disposition search_reason search_type  \\\n",
       "0                    NaN                NaN           NaN         NaN   \n",
       "1                    NaN                NaN           NaN         NaN   \n",
       "2                    NaN                NaN           NaN         NaN   \n",
       "3                    NaN                NaN           NaN         NaN   \n",
       "4              21-402(a)                NaN           NaN         NaN   \n",
       "\n",
       "  search_arrest_reason  \n",
       "0                  NaN  \n",
       "1                  NaN  \n",
       "2                  NaN  \n",
       "3                  NaN  \n",
       "4                  NaN  \n",
       "\n",
       "[5 rows x 48 columns]"
      ]
     },
     "execution_count": 2,
     "metadata": {},
     "output_type": "execute_result"
    }
   ],
   "source": [
    "#data collection\n",
    "#we can access the dataset via the SODA API\n",
    "#since the dataset has too many rows, we will only process the first 100 thousand rows.\n",
    "client = Socrata(\"data.montgomerycountymd.gov\", 'IXCx2ihjCYo4RF9slAVzYL2x9')\n",
    "results = client.get(\"4mse-ku6q\",limit=100000)\n",
    "df = pd.DataFrame.from_records(results)\n",
    "df.head()"
   ]
  },
  {
   "cell_type": "code",
   "execution_count": 3,
   "metadata": {},
   "outputs": [],
   "source": [
    "#data processing\n",
    "#dont need some of these columns so we can drop them\n",
    "df = df.drop(['color','vehicle_type','hazmat','work_zone','alcohol','commercial_vehicle','commercial_license','arrest_type'],axis = 1)\n",
    "df = df.drop(['property_damage','model','search_outcome','search_reason_for_stop','search_conducted','contributed_to_accident'],axis = 1)\n",
    "df = df.drop(['fatal','accident','belts','personal_injury','article','driver_state','dl_state',':@computed_region_vu5j_pcmz',':@computed_region_rbt8_3x7n'],axis = 1)\n",
    "df = df.drop([':@computed_region_kbsp_ykn9',':@computed_region_tx5f_5em3','geolocation','seq_id','agency','latitude'], axis = 1)\n",
    "df = df.drop(['longitude',':@computed_region_d7bw_bq6x','search_disposition','search_reason','search_type','search_arrest_reason'],axis = 1)"
   ]
  },
  {
   "cell_type": "code",
   "execution_count": 335,
   "metadata": {},
   "outputs": [
    {
     "data": {
      "text/html": [
       "<div>\n",
       "<style scoped>\n",
       "    .dataframe tbody tr th:only-of-type {\n",
       "        vertical-align: middle;\n",
       "    }\n",
       "\n",
       "    .dataframe tbody tr th {\n",
       "        vertical-align: top;\n",
       "    }\n",
       "\n",
       "    .dataframe thead th {\n",
       "        text-align: right;\n",
       "    }\n",
       "</style>\n",
       "<table border=\"1\" class=\"dataframe\">\n",
       "  <thead>\n",
       "    <tr style=\"text-align: right;\">\n",
       "      <th></th>\n",
       "      <th>date_of_stop</th>\n",
       "      <th>time_of_stop</th>\n",
       "      <th>subagency</th>\n",
       "      <th>description</th>\n",
       "      <th>location</th>\n",
       "      <th>state</th>\n",
       "      <th>year</th>\n",
       "      <th>make</th>\n",
       "      <th>violation_type</th>\n",
       "      <th>charge</th>\n",
       "      <th>race</th>\n",
       "      <th>gender</th>\n",
       "      <th>driver_city</th>\n",
       "      <th>month</th>\n",
       "    </tr>\n",
       "  </thead>\n",
       "  <tbody>\n",
       "    <tr>\n",
       "      <th>0</th>\n",
       "      <td>6</td>\n",
       "      <td>22</td>\n",
       "      <td>3rd District, Silver Spring</td>\n",
       "      <td>DRIVER USING HANDS TO USE HANDHELD TELEPHONE W...</td>\n",
       "      <td>BROADBIRCH DR / CHERRY HILL RD</td>\n",
       "      <td>MD</td>\n",
       "      <td>2007</td>\n",
       "      <td>TOYOTA</td>\n",
       "      <td>Citation</td>\n",
       "      <td>21-112</td>\n",
       "      <td>BLACK</td>\n",
       "      <td>M</td>\n",
       "      <td>SILVER SPRING</td>\n",
       "      <td>2020-11-01</td>\n",
       "    </tr>\n",
       "    <tr>\n",
       "      <th>1</th>\n",
       "      <td>6</td>\n",
       "      <td>21</td>\n",
       "      <td>3rd District, Silver Spring</td>\n",
       "      <td>EXCEEDING POSTED MAXIMUM SPEED LIMIT: 60 MPH I...</td>\n",
       "      <td>NB 29/INDUSTRIAL</td>\n",
       "      <td>VA</td>\n",
       "      <td>2003</td>\n",
       "      <td>HONDA</td>\n",
       "      <td>Citation</td>\n",
       "      <td>21-801</td>\n",
       "      <td>BLACK</td>\n",
       "      <td>F</td>\n",
       "      <td>SILVER SPRING</td>\n",
       "      <td>2020-11-01</td>\n",
       "    </tr>\n",
       "    <tr>\n",
       "      <th>2</th>\n",
       "      <td>6</td>\n",
       "      <td>18</td>\n",
       "      <td>6th District, Gaithersburg / Montgomery Village</td>\n",
       "      <td>FAILURE TO DISPLAY REGISTRATION CARD UPON DEMA...</td>\n",
       "      <td>MONTGOMERY VILLAGE AVE / STEDWICK</td>\n",
       "      <td>MD</td>\n",
       "      <td>2004</td>\n",
       "      <td>JEEP</td>\n",
       "      <td>Citation</td>\n",
       "      <td>13-409</td>\n",
       "      <td>HISPANIC</td>\n",
       "      <td>M</td>\n",
       "      <td>COLUMBIA</td>\n",
       "      <td>2020-11-01</td>\n",
       "    </tr>\n",
       "    <tr>\n",
       "      <th>3</th>\n",
       "      <td>6</td>\n",
       "      <td>18</td>\n",
       "      <td>1st District, Rockville</td>\n",
       "      <td>EXCEEDING THE POSTED SPEED LIMIT OF 40 MPH</td>\n",
       "      <td>DARNESTOWN/ MAIN ST</td>\n",
       "      <td>MD</td>\n",
       "      <td>2008</td>\n",
       "      <td>LEXUS</td>\n",
       "      <td>Warning</td>\n",
       "      <td>21-801</td>\n",
       "      <td>WHITE</td>\n",
       "      <td>F</td>\n",
       "      <td>NORTH POTOMAC</td>\n",
       "      <td>2020-11-01</td>\n",
       "    </tr>\n",
       "    <tr>\n",
       "      <th>4</th>\n",
       "      <td>6</td>\n",
       "      <td>17</td>\n",
       "      <td>3rd District, Silver Spring</td>\n",
       "      <td>FAILURE TO CONTROL VEHICLE SPEED ON HIGHWAY TO...</td>\n",
       "      <td>COLUMBIA PIKE /  MUSGROVE ROAD</td>\n",
       "      <td>MD</td>\n",
       "      <td>2019</td>\n",
       "      <td>RAM</td>\n",
       "      <td>Citation</td>\n",
       "      <td>21-801</td>\n",
       "      <td>BLACK</td>\n",
       "      <td>U</td>\n",
       "      <td>BALTIMORE</td>\n",
       "      <td>2020-11-01</td>\n",
       "    </tr>\n",
       "  </tbody>\n",
       "</table>\n",
       "</div>"
      ],
      "text/plain": [
       "   date_of_stop  time_of_stop  \\\n",
       "0             6            22   \n",
       "1             6            21   \n",
       "2             6            18   \n",
       "3             6            18   \n",
       "4             6            17   \n",
       "\n",
       "                                         subagency  \\\n",
       "0                      3rd District, Silver Spring   \n",
       "1                      3rd District, Silver Spring   \n",
       "2  6th District, Gaithersburg / Montgomery Village   \n",
       "3                          1st District, Rockville   \n",
       "4                      3rd District, Silver Spring   \n",
       "\n",
       "                                         description  \\\n",
       "0  DRIVER USING HANDS TO USE HANDHELD TELEPHONE W...   \n",
       "1  EXCEEDING POSTED MAXIMUM SPEED LIMIT: 60 MPH I...   \n",
       "2  FAILURE TO DISPLAY REGISTRATION CARD UPON DEMA...   \n",
       "3         EXCEEDING THE POSTED SPEED LIMIT OF 40 MPH   \n",
       "4  FAILURE TO CONTROL VEHICLE SPEED ON HIGHWAY TO...   \n",
       "\n",
       "                            location state  year    make violation_type  \\\n",
       "0     BROADBIRCH DR / CHERRY HILL RD    MD  2007  TOYOTA       Citation   \n",
       "1                   NB 29/INDUSTRIAL    VA  2003   HONDA       Citation   \n",
       "2  MONTGOMERY VILLAGE AVE / STEDWICK    MD  2004    JEEP       Citation   \n",
       "3                DARNESTOWN/ MAIN ST    MD  2008   LEXUS        Warning   \n",
       "4     COLUMBIA PIKE /  MUSGROVE ROAD    MD  2019     RAM       Citation   \n",
       "\n",
       "   charge      race gender    driver_city      month  \n",
       "0  21-112     BLACK      M  SILVER SPRING 2020-11-01  \n",
       "1  21-801     BLACK      F  SILVER SPRING 2020-11-01  \n",
       "2  13-409  HISPANIC      M       COLUMBIA 2020-11-01  \n",
       "3  21-801     WHITE      F  NORTH POTOMAC 2020-11-01  \n",
       "4  21-801     BLACK      U      BALTIMORE 2020-11-01  "
      ]
     },
     "execution_count": 335,
     "metadata": {},
     "output_type": "execute_result"
    }
   ],
   "source": [
    "#some of the charge meaning\n",
    "#21-801 = speed charge\n",
    "#13-409 = FAILURE TO DISPLAY REGISTRATION CARD UPON DEMAND BY POLICE OFFICER\n",
    "#21-112 = Reckless driving(texting and driving)\n",
    "#21-201 = DRIVER FAILURE TO OBEY PROPERLY PLACED TRAFFIC CONTROL DEVICE INSTRUCTIONS\n",
    "#13-411 = DISPLAYING EXPIRED REGISTRATION PLATE ISSUED BY ANY STATE\n",
    "#We are going to focus more on the charges, but you can do it however you like\n",
    "#first we are going to focus on the more frequent charges. You can kind of tell just by looking at the df\n",
    "#there is a list of the 6 above\n",
    "#some charge have extra letter at the back, such as 21-801.1 and 21-801.1(b)\n",
    "#they are a pretty much the same, just a bit more specific, so we can put them in the same catagory\n",
    "#to do this, we are going to only take rows that have thesse charges\n",
    "#we start by making a new df and taking the first 6 letters of the charge by using regex. this gets rid of the \n",
    "#21-801.1(b) and 21-801.1 and turns it into 21-801 and 21-801, which is perfect\n",
    "#then we simply just compare it with the charge and if its true, make a map of that row and append it to the new df\n",
    "from datetime import datetime\n",
    "dict = []\n",
    "D = decimal.Decimal\n",
    "for row in df.itertuples():\n",
    "    charge = row[10][:6]\n",
    "    #it would probably be more useful if we get the day of the date, such as monday - sunday\n",
    "    #for this we will convert the string into a datetime object\n",
    "    # 0 = monday, 6 = sunday\n",
    "    #date = row[1][:10]\n",
    "    date = datetime.strptime(row[1][5:7] +\" \"+ row[1][8:10] +\" \"+ row[1][:4], '%m %d %Y').weekday()\n",
    "    #month_str = ((row[1][5:7] + '.' + row[1][2:4]))\n",
    "    month = datetime.strptime(row[1][0:4] + ' ' + row[1][5:7], '%Y %m')\n",
    "    #we are also going to add the time of the charge because it could be useful in out analysis\n",
    "    #we are going to ignore the minuite and second and just focus on the hour it happened\n",
    "    time = int(row[2][:2])\n",
    "    if(charge == '21-801' or charge == '13-409' or charge == '21-201' or charge == '21-112' or charge == '13-411'):\n",
    "        new_row = {'date_of_stop':date, 'time_of_stop':time, 'subagency':row[3],'description':row[4],\n",
    "                  'location':row[5],'state':row[6],'year':row[7],'make':row[8],'violation_type':row[9],\n",
    "                   'charge':charge,'race':row[11],'gender':row[12],'driver_city':row[13],'month':month}\n",
    "        dict.append(new_row)\n",
    "df_charge = pd.DataFrame.from_dict(dict)\n",
    "df_charge.head()"
   ]
  },
  {
   "cell_type": "raw",
   "metadata": {},
   "source": []
  },
  {
   "cell_type": "code",
   "execution_count": 336,
   "metadata": {},
   "outputs": [],
   "source": [
    "#Exploratory analysisawd"
   ]
  },
  {
   "cell_type": "code",
   "execution_count": 337,
   "metadata": {},
   "outputs": [
    {
     "data": {
      "text/plain": [
       "(array([68258.,     0.,     0.,     0.,     0., 31459.,     0.,     0.,\n",
       "            0.,   283.]),\n",
       " array([0. , 0.2, 0.4, 0.6, 0.8, 1. , 1.2, 1.4, 1.6, 1.8, 2. ]),\n",
       " <a list of 10 Patch objects>)"
      ]
     },
     "execution_count": 337,
     "metadata": {},
     "output_type": "execute_result"
    },
    {
     "data": {
      "image/png": "[encoded data removed]",
      "text/plain": [
       "<Figure size 720x504 with 1 Axes>"
      ]
     },
     "metadata": {
      "needs_background": "light"
     },
     "output_type": "display_data"
    }
   ],
   "source": [
    "#get a better visual of this by making a hist graph\n",
    "import matplotlib.pyplot as plt\n",
    "#who can compare it in many ways, such as gender\n",
    "plt.figure(figsize=(10,7))\n",
    "plt.title('Charge count') \n",
    "plt.xlabel(\"gender type\") \n",
    "plt.ylabel(\"amount\") \n",
    "plt.hist(df['gender'])"
   ]
  },
  {
   "cell_type": "code",
   "execution_count": 338,
   "metadata": {},
   "outputs": [
    {
     "data": {
      "text/plain": [
       "(array([40892.,     0.,     0.,     0.,     0., 55893.,     0.,     0.,\n",
       "            0.,  3215.]),\n",
       " array([0. , 0.2, 0.4, 0.6, 0.8, 1. , 1.2, 1.4, 1.6, 1.8, 2. ]),\n",
       " <a list of 10 Patch objects>)"
      ]
     },
     "execution_count": 338,
     "metadata": {},
     "output_type": "execute_result"
    },
    {
     "data": {
      "image/png": "[encoded data removed]",
      "text/plain": [
       "<Figure size 432x288 with 1 Axes>"
      ]
     },
     "metadata": {
      "needs_background": "light"
     },
     "output_type": "display_data"
    }
   ],
   "source": [
    "#make\n",
    "plt.title('Charge count') \n",
    "plt.xlabel(\"violation_type type\") \n",
    "plt.ylabel(\"amount\") \n",
    "plt.hist(df['violation_type'])"
   ]
  },
  {
   "cell_type": "code",
   "execution_count": 339,
   "metadata": {},
   "outputs": [
    {
     "data": {
      "text/plain": [
       "(array([9.4517e+04, 2.0910e+03, 1.4240e+03, 1.0700e+03, 2.8700e+02,\n",
       "        2.1200e+02, 1.8300e+02, 9.8000e+01, 1.0300e+02, 1.5000e+01]),\n",
       " array([ 0. ,  5.6, 11.2, 16.8, 22.4, 28. , 33.6, 39.2, 44.8, 50.4, 56. ]),\n",
       " <a list of 10 Patch objects>)"
      ]
     },
     "execution_count": 339,
     "metadata": {},
     "output_type": "execute_result"
    },
    {
     "data": {
      "image/png": "[encoded data removed]",
      "text/plain": [
       "<Figure size 720x504 with 1 Axes>"
      ]
     },
     "metadata": {
      "needs_background": "light"
     },
     "output_type": "display_data"
    }
   ],
   "source": [
    "#state\n",
    "plt.figure(figsize=(10,7))\n",
    "plt.title('Charge count') \n",
    "plt.xlabel(\"state type\") \n",
    "plt.ylabel(\"amount\") \n",
    "plt.hist(df['state'])"
   ]
  },
  {
   "cell_type": "code",
   "execution_count": 340,
   "metadata": {},
   "outputs": [
    {
     "data": {
      "text/plain": [
       "(array([ 2957.,     0., 17949.,     0.,     0.,  3889.,     0.,  6739.,\n",
       "            0.,  8638.]),\n",
       " array([0. , 0.4, 0.8, 1.2, 1.6, 2. , 2.4, 2.8, 3.2, 3.6, 4. ]),\n",
       " <a list of 10 Patch objects>)"
      ]
     },
     "execution_count": 340,
     "metadata": {},
     "output_type": "execute_result"
    },
    {
     "data": {
      "image/png": "[encoded data removed]",
      "text/plain": [
       "<Figure size 432x288 with 1 Axes>"
      ]
     },
     "metadata": {
      "needs_background": "light"
     },
     "output_type": "display_data"
    }
   ],
   "source": [
    "#we are going to moslty focus on the charge type\n",
    "plt.title('Charge count') \n",
    "plt.xlabel(\"charge type\") \n",
    "plt.ylabel(\"amount\") \n",
    "plt.hist(df_charge['charge'])"
   ]
  },
  {
   "cell_type": "code",
   "execution_count": 341,
   "metadata": {},
   "outputs": [],
   "source": [
    "#to getting a better picture of the charges, go deeper into it\n",
    "#lets see how many charges happen on that what weekday\n"
   ]
  },
  {
   "cell_type": "code",
   "execution_count": 342,
   "metadata": {},
   "outputs": [
    {
     "data": {
      "text/plain": [
       "(array([5387., 7474.,    0., 7075.,    0., 6667., 6200.,    0., 3802.,\n",
       "        3567.]),\n",
       " array([0. , 0.6, 1.2, 1.8, 2.4, 3. , 3.6, 4.2, 4.8, 5.4, 6. ]),\n",
       " <a list of 10 Patch objects>)"
      ]
     },
     "execution_count": 342,
     "metadata": {},
     "output_type": "execute_result"
    },
    {
     "data": {
      "image/png": "[encoded data removed]",
      "text/plain": [
       "<Figure size 1440x504 with 1 Axes>"
      ]
     },
     "metadata": {
      "needs_background": "light"
     },
     "output_type": "display_data"
    }
   ],
   "source": [
    "plt.figure(figsize=(20,7))\n",
    "plt.title('Charge count') \n",
    "plt.xlabel(\"day\") \n",
    "plt.ylabel(\"amount\") \n",
    "plt.hist(df_charge['date_of_stop'],align='mid',edgecolor='red')"
   ]
  },
  {
   "cell_type": "code",
   "execution_count": 343,
   "metadata": {},
   "outputs": [
    {
     "data": {
      "image/png": "[encoded data removed]",
      "text/plain": [
       "<Figure size 576x504 with 1 Axes>"
      ]
     },
     "metadata": {
      "needs_background": "light"
     },
     "output_type": "display_data"
    }
   ],
   "source": [
    "#can make a plot on date x  and time y\n",
    "plt.figure(figsize=(8,7))\n",
    "plt.title('Charge count') \n",
    "plt.xlabel(\"day\") \n",
    "plt.ylabel(\"time\") \n",
    "plt.scatter(df_charge['date_of_stop'],df_charge['time_of_stop'])\n",
    "plt.show()\n",
    "#this looks like shit, so we can get a better visual if we make a violin plot"
   ]
  },
  {
   "cell_type": "code",
   "execution_count": 344,
   "metadata": {},
   "outputs": [
    {
     "data": {
      "text/plain": [
       "<matplotlib.axes._subplots.AxesSubplot at 0x7fedf80e62e0>"
      ]
     },
     "execution_count": 344,
     "metadata": {},
     "output_type": "execute_result"
    },
    {
     "data": {
      "image/png": "[encoded data removed]",
      "text/plain": [
       "<Figure size 432x288 with 1 Axes>"
      ]
     },
     "metadata": {
      "needs_background": "light"
     },
     "output_type": "display_data"
    }
   ],
   "source": [
    "import seaborn as sns\n",
    "#can make a plot on date x  and time y\n",
    "sns.violinplot(x = df_charge['date_of_stop'], y= df_charge['time_of_stop'],cut=0)"
   ]
  },
  {
   "cell_type": "code",
   "execution_count": 345,
   "metadata": {},
   "outputs": [],
   "source": [
    "#looking at this, it looks like at 0 - 4(mon to fri), which is monday, a lot of people have traffic violations at aroung 9am to 3pm. \n",
    "# They are probably rushing to work or something and not obeying the laws!\n",
    "#the weekends, 5 and 6 seem to have more around 12pm "
   ]
  },
  {
   "cell_type": "code",
   "execution_count": null,
   "metadata": {},
   "outputs": [],
   "source": []
  },
  {
   "cell_type": "code",
   "execution_count": 346,
   "metadata": {},
   "outputs": [
    {
     "data": {
      "text/plain": [
       "(array([4631., 5344., 4363., 5461., 5919., 3699.,  481., 2043.,  909.,\n",
       "         784., 1002., 1733., 1946., 1857.]),\n",
       " array([737333.        , 737361.35714286, 737389.71428571, 737418.07142857,\n",
       "        737446.42857143, 737474.78571429, 737503.14285714, 737531.5       ,\n",
       "        737559.85714286, 737588.21428571, 737616.57142857, 737644.92857143,\n",
       "        737673.28571429, 737701.64285714, 737730.        ]),\n",
       " <a list of 14 Patch objects>)"
      ]
     },
     "execution_count": 346,
     "metadata": {},
     "output_type": "execute_result"
    },
    {
     "data": {
      "image/png": "[encoded data removed]",
      "text/plain": [
       "<Figure size 1080x504 with 1 Axes>"
      ]
     },
     "metadata": {
      "needs_background": "light"
     },
     "output_type": "display_data"
    }
   ],
   "source": [
    "import numpy as np\n",
    "plt.figure(figsize=(15,7))\n",
    "plt.title('Charge count') \n",
    "plt.xlabel(\"month\") \n",
    "plt.ylabel(\"amount\") \n",
    "plt.hist((df_charge['month']),align='mid',edgecolor='red',bins = 14)"
   ]
  },
  {
   "cell_type": "code",
   "execution_count": 347,
   "metadata": {},
   "outputs": [],
   "source": [
    "#hypothesis testing and machine learning to provide analysis"
   ]
  },
  {
   "cell_type": "code",
   "execution_count": 348,
   "metadata": {},
   "outputs": [],
   "source": [
    "#this the hypo, we will test the amount of traffic voilations per month and try to predict the next month"
   ]
  },
  {
   "cell_type": "code",
   "execution_count": 349,
   "metadata": {},
   "outputs": [
    {
     "data": {
      "text/plain": [
       "[<matplotlib.lines.Line2D at 0x7fedf7e2f040>]"
      ]
     },
     "execution_count": 349,
     "metadata": {},
     "output_type": "execute_result"
    },
    {
     "data": {
      "image/png": "[encoded data removed]",
      "text/plain": [
       "<Figure size 432x288 with 1 Axes>"
      ]
     },
     "metadata": {
      "needs_background": "light"
     },
     "output_type": "display_data"
    }
   ],
   "source": [
    "from sklearn import linear_model\n",
    "from sklearn import datasets\n",
    "#cant make a scatter plot for arrays of diff length(plt.scatter(df_charge['month'],max_count))\n",
    "#so we make a list of the unique months and the amount of charges for that uniqie month\n",
    "df_charge = df_charge.sort_values(by=['month'])\n",
    "max_count = []\n",
    "month_lst = []\n",
    "curr = df_charge['month'][0]\n",
    "month_count = 1\n",
    "#we are going to use linear_model.LinearRegression(), but it cant take in time objects when i want to use the reg.fit so we are going \n",
    "#to just keep track of the month by incrementing it by 1\n",
    "month_lst.append(month_count)\n",
    "count = 0\n",
    "for row in df_charge.itertuples():\n",
    "    if(curr == row[14]):\n",
    "        count = count + 1\n",
    "    else:\n",
    "        max_count.append(count)\n",
    "        count = 0\n",
    "        curr = row[14]\n",
    "        month_lst.append(month_count)\n",
    "        month_count = month_count + 1\n",
    "max_count.append(count)\n",
    "#both the start of the list is 0 so we can just remove the first index\n",
    "max_count = max_count[1:]\n",
    "month_lst = month_lst[1:]\n",
    "reg = linear_model.LinearRegression()\n",
    "monthArr = np.array([[y] for y in month_lst])\n",
    "countArr = np.array([[l] for l in max_count])\n",
    "reg.fit(monthArr,countArr)\n",
    "#plt.scatter(month_lst,max_count)\n",
    "plt.scatter(monthArr,countArr,color = 'g')\n",
    "plt.plot(monthArr,reg.predict(monthArr),color = 'k')"
   ]
  },
  {
   "cell_type": "code",
   "execution_count": null,
   "metadata": {},
   "outputs": [],
   "source": []
  }
 ],
 "metadata": {
  "kernelspec": {
   "display_name": "Python 3",
   "language": "python",
   "name": "python3"
  },
  "language_info": {
   "codemirror_mode": {
    "name": "ipython",
    "version": 3
   },
   "file_extension": ".py",
   "mimetype": "text/x-python",
   "name": "python",
   "nbconvert_exporter": "python",
   "pygments_lexer": "ipython3",
   "version": "3.8.5"
  }
 },
 "nbformat": 4,
 "nbformat_minor": 4
}
