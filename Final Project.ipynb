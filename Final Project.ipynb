{
 "cells": [
  {
   "cell_type": "code",
   "execution_count": 1,
   "metadata": {},
   "outputs": [
    {
     "name": "stdout",
     "output_type": "stream",
     "text": [
      "Collecting html5lib\n",
      "  Downloading html5lib-1.1-py2.py3-none-any.whl (112 kB)\n",
      "\u001b[K     |████████████████████████████████| 112 kB 5.2 MB/s eta 0:00:01\n",
      "\u001b[?25hRequirement already satisfied: webencodings in /opt/conda/lib/python3.8/site-packages (from html5lib) (0.5.1)\n",
      "Requirement already satisfied: six>=1.9 in /opt/conda/lib/python3.8/site-packages (from html5lib) (1.15.0)\n",
      "Installing collected packages: html5lib\n",
      "Successfully installed html5lib-1.1\n",
      "Collecting sodapy\n",
      "  Downloading sodapy-2.1.0-py2.py3-none-any.whl (14 kB)\n",
      "Requirement already satisfied: requests>=2.20.0 in /opt/conda/lib/python3.8/site-packages (from sodapy) (2.24.0)\n",
      "Requirement already satisfied: idna<3,>=2.5 in /opt/conda/lib/python3.8/site-packages (from requests>=2.20.0->sodapy) (2.10)\n",
      "Requirement already satisfied: urllib3!=1.25.0,!=1.25.1,<1.26,>=1.21.1 in /opt/conda/lib/python3.8/site-packages (from requests>=2.20.0->sodapy) (1.25.10)\n",
      "Requirement already satisfied: chardet<4,>=3.0.2 in /opt/conda/lib/python3.8/site-packages (from requests>=2.20.0->sodapy) (3.0.4)\n",
      "Requirement already satisfied: certifi>=2017.4.17 in /opt/conda/lib/python3.8/site-packages (from requests>=2.20.0->sodapy) (2020.6.20)\n",
      "Installing collected packages: sodapy\n",
      "Successfully installed sodapy-2.1.0\n"
     ]
    }
   ],
   "source": [
    "!pip3 install html5lib\n",
    "import requests\n",
    "from bs4 import BeautifulSoup\n",
    "import pandas as pd\n",
    "!pip3 install sodapy\n",
    "from sodapy import Socrata\n",
    "import decimal"
   ]
  },
  {
   "cell_type": "code",
   "execution_count": 2,
   "metadata": {},
   "outputs": [
    {
     "data": {
      "text/html": [
       "<div>\n",
       "<style scoped>\n",
       "    .dataframe tbody tr th:only-of-type {\n",
       "        vertical-align: middle;\n",
       "    }\n",
       "\n",
       "    .dataframe tbody tr th {\n",
       "        vertical-align: top;\n",
       "    }\n",
       "\n",
       "    .dataframe thead th {\n",
       "        text-align: right;\n",
       "    }\n",
       "</style>\n",
       "<table border=\"1\" class=\"dataframe\">\n",
       "  <thead>\n",
       "    <tr style=\"text-align: right;\">\n",
       "      <th></th>\n",
       "      <th>seq_id</th>\n",
       "      <th>date_of_stop</th>\n",
       "      <th>time_of_stop</th>\n",
       "      <th>agency</th>\n",
       "      <th>subagency</th>\n",
       "      <th>description</th>\n",
       "      <th>location</th>\n",
       "      <th>latitude</th>\n",
       "      <th>longitude</th>\n",
       "      <th>accident</th>\n",
       "      <th>...</th>\n",
       "      <th>:@computed_region_kbsp_ykn9</th>\n",
       "      <th>:@computed_region_d7bw_bq6x</th>\n",
       "      <th>:@computed_region_rbt8_3x7n</th>\n",
       "      <th>search_conducted</th>\n",
       "      <th>search_outcome</th>\n",
       "      <th>search_reason_for_stop</th>\n",
       "      <th>search_disposition</th>\n",
       "      <th>search_reason</th>\n",
       "      <th>search_type</th>\n",
       "      <th>search_arrest_reason</th>\n",
       "    </tr>\n",
       "  </thead>\n",
       "  <tbody>\n",
       "    <tr>\n",
       "      <th>0</th>\n",
       "      <td>943ed7bf-6a80-4b23-be0c-cef273caf8a3</td>\n",
       "      <td>2020-12-01T00:00:00.000</td>\n",
       "      <td>22:40:00</td>\n",
       "      <td>MCP</td>\n",
       "      <td>5th District, Germantown</td>\n",
       "      <td>EXCEEDING POSTED MAXIMUM SPEED LIMIT: 54 MPH I...</td>\n",
       "      <td>FREDERICK RD / BOLAND FARM RD</td>\n",
       "      <td>39.1824183333333</td>\n",
       "      <td>-77.2385083333333</td>\n",
       "      <td>No</td>\n",
       "      <td>...</td>\n",
       "      <td>39</td>\n",
       "      <td>36</td>\n",
       "      <td>1</td>\n",
       "      <td>NaN</td>\n",
       "      <td>NaN</td>\n",
       "      <td>NaN</td>\n",
       "      <td>NaN</td>\n",
       "      <td>NaN</td>\n",
       "      <td>NaN</td>\n",
       "      <td>NaN</td>\n",
       "    </tr>\n",
       "    <tr>\n",
       "      <th>1</th>\n",
       "      <td>943ed7bf-6a80-4b23-be0c-cef273caf8a3</td>\n",
       "      <td>2020-12-01T00:00:00.000</td>\n",
       "      <td>22:40:00</td>\n",
       "      <td>MCP</td>\n",
       "      <td>5th District, Germantown</td>\n",
       "      <td>DRIVER FAILURE TO OBEY PROPERLY PLACED TRAFFIC...</td>\n",
       "      <td>FREDERICK RD / BOLAND FARM RD</td>\n",
       "      <td>39.1824183333333</td>\n",
       "      <td>-77.2385083333333</td>\n",
       "      <td>No</td>\n",
       "      <td>...</td>\n",
       "      <td>39</td>\n",
       "      <td>36</td>\n",
       "      <td>1</td>\n",
       "      <td>NaN</td>\n",
       "      <td>NaN</td>\n",
       "      <td>NaN</td>\n",
       "      <td>NaN</td>\n",
       "      <td>NaN</td>\n",
       "      <td>NaN</td>\n",
       "      <td>NaN</td>\n",
       "    </tr>\n",
       "    <tr>\n",
       "      <th>2</th>\n",
       "      <td>943ed7bf-6a80-4b23-be0c-cef273caf8a3</td>\n",
       "      <td>2020-12-01T00:00:00.000</td>\n",
       "      <td>22:40:00</td>\n",
       "      <td>MCP</td>\n",
       "      <td>5th District, Germantown</td>\n",
       "      <td>IMPROPER PASSING OF OVERTAKEN VEHICLE</td>\n",
       "      <td>FREDERICK RD / BOLAND FARM RD</td>\n",
       "      <td>39.1824183333333</td>\n",
       "      <td>-77.2385083333333</td>\n",
       "      <td>No</td>\n",
       "      <td>...</td>\n",
       "      <td>39</td>\n",
       "      <td>36</td>\n",
       "      <td>1</td>\n",
       "      <td>NaN</td>\n",
       "      <td>NaN</td>\n",
       "      <td>NaN</td>\n",
       "      <td>NaN</td>\n",
       "      <td>NaN</td>\n",
       "      <td>NaN</td>\n",
       "      <td>NaN</td>\n",
       "    </tr>\n",
       "    <tr>\n",
       "      <th>3</th>\n",
       "      <td>1c617e4a-d5d0-46eb-8dd9-339d117bf82a</td>\n",
       "      <td>2020-12-01T00:00:00.000</td>\n",
       "      <td>22:37:00</td>\n",
       "      <td>MCP</td>\n",
       "      <td>6th District, Gaithersburg / Montgomery Village</td>\n",
       "      <td>EXCEEDING THE POSTED SPEED LIMIT OF 30 MPH</td>\n",
       "      <td>ODEND HAL AVE / LOST KNIFE RD</td>\n",
       "      <td>39.152116</td>\n",
       "      <td>-77.199198</td>\n",
       "      <td>No</td>\n",
       "      <td>...</td>\n",
       "      <td>36</td>\n",
       "      <td>35</td>\n",
       "      <td>21</td>\n",
       "      <td>NaN</td>\n",
       "      <td>NaN</td>\n",
       "      <td>NaN</td>\n",
       "      <td>NaN</td>\n",
       "      <td>NaN</td>\n",
       "      <td>NaN</td>\n",
       "      <td>NaN</td>\n",
       "    </tr>\n",
       "    <tr>\n",
       "      <th>4</th>\n",
       "      <td>a768350d-d0a8-4082-97be-332bba272395</td>\n",
       "      <td>2020-12-01T00:00:00.000</td>\n",
       "      <td>22:16:00</td>\n",
       "      <td>MCP</td>\n",
       "      <td>5th District, Germantown</td>\n",
       "      <td>FAILURE TO DRIVE VEHICLE ON RIGHT HALF OF ROAD...</td>\n",
       "      <td>GERMANTOWN RD / AIRCRAT DR</td>\n",
       "      <td>39.1822116666667</td>\n",
       "      <td>-77.2597033333333</td>\n",
       "      <td>No</td>\n",
       "      <td>...</td>\n",
       "      <td>39</td>\n",
       "      <td>39</td>\n",
       "      <td>1</td>\n",
       "      <td>NaN</td>\n",
       "      <td>NaN</td>\n",
       "      <td>NaN</td>\n",
       "      <td>NaN</td>\n",
       "      <td>NaN</td>\n",
       "      <td>NaN</td>\n",
       "      <td>NaN</td>\n",
       "    </tr>\n",
       "  </tbody>\n",
       "</table>\n",
       "<p>5 rows × 48 columns</p>\n",
       "</div>"
      ],
      "text/plain": [
       "                                 seq_id             date_of_stop time_of_stop  \\\n",
       "0  943ed7bf-6a80-4b23-be0c-cef273caf8a3  2020-12-01T00:00:00.000     22:40:00   \n",
       "1  943ed7bf-6a80-4b23-be0c-cef273caf8a3  2020-12-01T00:00:00.000     22:40:00   \n",
       "2  943ed7bf-6a80-4b23-be0c-cef273caf8a3  2020-12-01T00:00:00.000     22:40:00   \n",
       "3  1c617e4a-d5d0-46eb-8dd9-339d117bf82a  2020-12-01T00:00:00.000     22:37:00   \n",
       "4  a768350d-d0a8-4082-97be-332bba272395  2020-12-01T00:00:00.000     22:16:00   \n",
       "\n",
       "  agency                                        subagency  \\\n",
       "0    MCP                         5th District, Germantown   \n",
       "1    MCP                         5th District, Germantown   \n",
       "2    MCP                         5th District, Germantown   \n",
       "3    MCP  6th District, Gaithersburg / Montgomery Village   \n",
       "4    MCP                         5th District, Germantown   \n",
       "\n",
       "                                         description  \\\n",
       "0  EXCEEDING POSTED MAXIMUM SPEED LIMIT: 54 MPH I...   \n",
       "1  DRIVER FAILURE TO OBEY PROPERLY PLACED TRAFFIC...   \n",
       "2              IMPROPER PASSING OF OVERTAKEN VEHICLE   \n",
       "3         EXCEEDING THE POSTED SPEED LIMIT OF 30 MPH   \n",
       "4  FAILURE TO DRIVE VEHICLE ON RIGHT HALF OF ROAD...   \n",
       "\n",
       "                        location          latitude          longitude  \\\n",
       "0  FREDERICK RD / BOLAND FARM RD  39.1824183333333  -77.2385083333333   \n",
       "1  FREDERICK RD / BOLAND FARM RD  39.1824183333333  -77.2385083333333   \n",
       "2  FREDERICK RD / BOLAND FARM RD  39.1824183333333  -77.2385083333333   \n",
       "3  ODEND HAL AVE / LOST KNIFE RD         39.152116         -77.199198   \n",
       "4     GERMANTOWN RD / AIRCRAT DR  39.1822116666667  -77.2597033333333   \n",
       "\n",
       "  accident  ... :@computed_region_kbsp_ykn9 :@computed_region_d7bw_bq6x  \\\n",
       "0       No  ...                          39                          36   \n",
       "1       No  ...                          39                          36   \n",
       "2       No  ...                          39                          36   \n",
       "3       No  ...                          36                          35   \n",
       "4       No  ...                          39                          39   \n",
       "\n",
       "  :@computed_region_rbt8_3x7n search_conducted search_outcome  \\\n",
       "0                           1              NaN            NaN   \n",
       "1                           1              NaN            NaN   \n",
       "2                           1              NaN            NaN   \n",
       "3                          21              NaN            NaN   \n",
       "4                           1              NaN            NaN   \n",
       "\n",
       "  search_reason_for_stop search_disposition search_reason search_type  \\\n",
       "0                    NaN                NaN           NaN         NaN   \n",
       "1                    NaN                NaN           NaN         NaN   \n",
       "2                    NaN                NaN           NaN         NaN   \n",
       "3                    NaN                NaN           NaN         NaN   \n",
       "4                    NaN                NaN           NaN         NaN   \n",
       "\n",
       "  search_arrest_reason  \n",
       "0                  NaN  \n",
       "1                  NaN  \n",
       "2                  NaN  \n",
       "3                  NaN  \n",
       "4                  NaN  \n",
       "\n",
       "[5 rows x 48 columns]"
      ]
     },
     "execution_count": 2,
     "metadata": {},
     "output_type": "execute_result"
    }
   ],
   "source": [
    "#data collection\n",
    "#we can access the dataset via the SODA API\n",
    "#since the dataset has too many rows, we will only process the first 100 thousand rows.\n",
    "client = Socrata(\"data.montgomerycountymd.gov\", 'IXCx2ihjCYo4RF9slAVzYL2x9')\n",
    "results = client.get(\"4mse-ku6q\",limit=100000)\n",
    "df = pd.DataFrame.from_records(results)\n",
    "df.head()"
   ]
  },
  {
   "cell_type": "code",
   "execution_count": 3,
   "metadata": {},
   "outputs": [],
   "source": [
    "#data processing\n",
    "#dont need some of these columns so we can drop them\n",
    "df = df.drop(['color','vehicle_type','hazmat','work_zone','alcohol','commercial_vehicle','commercial_license','arrest_type'],axis = 1)\n",
    "df = df.drop(['property_damage','model','search_outcome','search_reason_for_stop','search_conducted','contributed_to_accident'],axis = 1)\n",
    "df = df.drop(['fatal','accident','belts','personal_injury','article','driver_state','dl_state',':@computed_region_vu5j_pcmz',':@computed_region_rbt8_3x7n'],axis = 1)\n",
    "df = df.drop([':@computed_region_kbsp_ykn9',':@computed_region_tx5f_5em3','geolocation','seq_id','agency','latitude'], axis = 1)\n",
    "df = df.drop(['longitude',':@computed_region_d7bw_bq6x','search_disposition','search_reason','search_type','search_arrest_reason'],axis = 1)"
   ]
  },
  {
   "cell_type": "code",
   "execution_count": 4,
   "metadata": {},
   "outputs": [
    {
     "data": {
      "text/html": [
       "<div>\n",
       "<style scoped>\n",
       "    .dataframe tbody tr th:only-of-type {\n",
       "        vertical-align: middle;\n",
       "    }\n",
       "\n",
       "    .dataframe tbody tr th {\n",
       "        vertical-align: top;\n",
       "    }\n",
       "\n",
       "    .dataframe thead th {\n",
       "        text-align: right;\n",
       "    }\n",
       "</style>\n",
       "<table border=\"1\" class=\"dataframe\">\n",
       "  <thead>\n",
       "    <tr style=\"text-align: right;\">\n",
       "      <th></th>\n",
       "      <th>date_of_stop</th>\n",
       "      <th>time_of_stop</th>\n",
       "      <th>subagency</th>\n",
       "      <th>description</th>\n",
       "      <th>location</th>\n",
       "      <th>state</th>\n",
       "      <th>year</th>\n",
       "      <th>make</th>\n",
       "      <th>violation_type</th>\n",
       "      <th>charge</th>\n",
       "      <th>race</th>\n",
       "      <th>gender</th>\n",
       "      <th>driver_city</th>\n",
       "      <th>month</th>\n",
       "    </tr>\n",
       "  </thead>\n",
       "  <tbody>\n",
       "    <tr>\n",
       "      <th>0</th>\n",
       "      <td>1</td>\n",
       "      <td>22</td>\n",
       "      <td>5th District, Germantown</td>\n",
       "      <td>EXCEEDING POSTED MAXIMUM SPEED LIMIT: 54 MPH I...</td>\n",
       "      <td>FREDERICK RD / BOLAND FARM RD</td>\n",
       "      <td>MD</td>\n",
       "      <td>2018</td>\n",
       "      <td>FORD</td>\n",
       "      <td>Citation</td>\n",
       "      <td>21-801</td>\n",
       "      <td>WHITE</td>\n",
       "      <td>M</td>\n",
       "      <td>GERMANTOWN</td>\n",
       "      <td>2020-12-01</td>\n",
       "    </tr>\n",
       "    <tr>\n",
       "      <th>1</th>\n",
       "      <td>1</td>\n",
       "      <td>22</td>\n",
       "      <td>5th District, Germantown</td>\n",
       "      <td>DRIVER FAILURE TO OBEY PROPERLY PLACED TRAFFIC...</td>\n",
       "      <td>FREDERICK RD / BOLAND FARM RD</td>\n",
       "      <td>MD</td>\n",
       "      <td>2018</td>\n",
       "      <td>FORD</td>\n",
       "      <td>Warning</td>\n",
       "      <td>21-201</td>\n",
       "      <td>WHITE</td>\n",
       "      <td>M</td>\n",
       "      <td>GERMANTOWN</td>\n",
       "      <td>2020-12-01</td>\n",
       "    </tr>\n",
       "    <tr>\n",
       "      <th>2</th>\n",
       "      <td>1</td>\n",
       "      <td>22</td>\n",
       "      <td>6th District, Gaithersburg / Montgomery Village</td>\n",
       "      <td>EXCEEDING THE POSTED SPEED LIMIT OF 30 MPH</td>\n",
       "      <td>ODEND HAL AVE / LOST KNIFE RD</td>\n",
       "      <td>MD</td>\n",
       "      <td>2004</td>\n",
       "      <td>BMW</td>\n",
       "      <td>Warning</td>\n",
       "      <td>21-801</td>\n",
       "      <td>HISPANIC</td>\n",
       "      <td>F</td>\n",
       "      <td>GAITHERSBURG</td>\n",
       "      <td>2020-12-01</td>\n",
       "    </tr>\n",
       "    <tr>\n",
       "      <th>3</th>\n",
       "      <td>1</td>\n",
       "      <td>22</td>\n",
       "      <td>5th District, Germantown</td>\n",
       "      <td>FAILURE TO DISPLAY REGISTRATION CARD UPON DEMA...</td>\n",
       "      <td>GERMANTOWN RD / AIRCRAT DR</td>\n",
       "      <td>MD</td>\n",
       "      <td>2014</td>\n",
       "      <td>FORD</td>\n",
       "      <td>Warning</td>\n",
       "      <td>13-409</td>\n",
       "      <td>WHITE</td>\n",
       "      <td>F</td>\n",
       "      <td>GAITHERSBURG</td>\n",
       "      <td>2020-12-01</td>\n",
       "    </tr>\n",
       "    <tr>\n",
       "      <th>4</th>\n",
       "      <td>1</td>\n",
       "      <td>22</td>\n",
       "      <td>5th District, Germantown</td>\n",
       "      <td>DRIVER FAILURE TO OBEY PROPERLY PLACED TRAFFIC...</td>\n",
       "      <td>GERMANTOWN RD / AIRCRAT DR</td>\n",
       "      <td>MD</td>\n",
       "      <td>2014</td>\n",
       "      <td>FORD</td>\n",
       "      <td>Citation</td>\n",
       "      <td>21-201</td>\n",
       "      <td>WHITE</td>\n",
       "      <td>F</td>\n",
       "      <td>GAITHERSBURG</td>\n",
       "      <td>2020-12-01</td>\n",
       "    </tr>\n",
       "  </tbody>\n",
       "</table>\n",
       "</div>"
      ],
      "text/plain": [
       "   date_of_stop  time_of_stop  \\\n",
       "0             1            22   \n",
       "1             1            22   \n",
       "2             1            22   \n",
       "3             1            22   \n",
       "4             1            22   \n",
       "\n",
       "                                         subagency  \\\n",
       "0                         5th District, Germantown   \n",
       "1                         5th District, Germantown   \n",
       "2  6th District, Gaithersburg / Montgomery Village   \n",
       "3                         5th District, Germantown   \n",
       "4                         5th District, Germantown   \n",
       "\n",
       "                                         description  \\\n",
       "0  EXCEEDING POSTED MAXIMUM SPEED LIMIT: 54 MPH I...   \n",
       "1  DRIVER FAILURE TO OBEY PROPERLY PLACED TRAFFIC...   \n",
       "2         EXCEEDING THE POSTED SPEED LIMIT OF 30 MPH   \n",
       "3  FAILURE TO DISPLAY REGISTRATION CARD UPON DEMA...   \n",
       "4  DRIVER FAILURE TO OBEY PROPERLY PLACED TRAFFIC...   \n",
       "\n",
       "                        location state  year  make violation_type  charge  \\\n",
       "0  FREDERICK RD / BOLAND FARM RD    MD  2018  FORD       Citation  21-801   \n",
       "1  FREDERICK RD / BOLAND FARM RD    MD  2018  FORD        Warning  21-201   \n",
       "2  ODEND HAL AVE / LOST KNIFE RD    MD  2004   BMW        Warning  21-801   \n",
       "3     GERMANTOWN RD / AIRCRAT DR    MD  2014  FORD        Warning  13-409   \n",
       "4     GERMANTOWN RD / AIRCRAT DR    MD  2014  FORD       Citation  21-201   \n",
       "\n",
       "       race gender   driver_city      month  \n",
       "0     WHITE      M    GERMANTOWN 2020-12-01  \n",
       "1     WHITE      M    GERMANTOWN 2020-12-01  \n",
       "2  HISPANIC      F  GAITHERSBURG 2020-12-01  \n",
       "3     WHITE      F  GAITHERSBURG 2020-12-01  \n",
       "4     WHITE      F  GAITHERSBURG 2020-12-01  "
      ]
     },
     "execution_count": 4,
     "metadata": {},
     "output_type": "execute_result"
    }
   ],
   "source": [
    "#some of the charge meaning\n",
    "#21-801 = speed charge\n",
    "#13-409 = FAILURE TO DISPLAY REGISTRATION CARD UPON DEMAND BY POLICE OFFICER\n",
    "#21-112 = Reckless driving(texting and driving)\n",
    "#21-201 = DRIVER FAILURE TO OBEY PROPERLY PLACED TRAFFIC CONTROL DEVICE INSTRUCTIONS\n",
    "#13-411 = DISPLAYING EXPIRED REGISTRATION PLATE ISSUED BY ANY STATE\n",
    "#We are going to focus more on the charges, but you can do it however you like\n",
    "#first we are going to focus on the more frequent charges. You can kind of tell just by looking at the df\n",
    "#there is a list of the 6 above\n",
    "#some charge have extra letter at the back, such as 21-801.1 and 21-801.1(b)\n",
    "#they are a pretty much the same, just a bit more specific, so we can put them in the same catagory\n",
    "#to do this, we are going to only take rows that have thesse charges\n",
    "#we start by making a new df and taking the first 6 letters of the charge by using regex. this gets rid of the \n",
    "#21-801.1(b) and 21-801.1 and turns it into 21-801 and 21-801, which is perfect\n",
    "#then we simply just compare it with the charge and if its true, make a map of that row and append it to the new df\n",
    "from datetime import datetime\n",
    "dict = []\n",
    "D = decimal.Decimal\n",
    "for row in df.itertuples():\n",
    "    charge = row[10][:6]\n",
    "    #it would probably be more useful if we get the day of the date, such as monday - sunday\n",
    "    #for this we will convert the string into a datetime object\n",
    "    # 0 = monday, 6 = sunday\n",
    "    #date = row[1][:10]\n",
    "    date = datetime.strptime(row[1][5:7] +\" \"+ row[1][8:10] +\" \"+ row[1][:4], '%m %d %Y').weekday()\n",
    "    #month_str = ((row[1][5:7] + '.' + row[1][2:4]))\n",
    "    month = datetime.strptime(row[1][0:4] + ' ' + row[1][5:7], '%Y %m')\n",
    "    #we are also going to add the time of the charge because it could be useful in out analysis\n",
    "    #we are going to ignore the minuite and second and just focus on the hour it happened\n",
    "    time = int(row[2][:2])\n",
    "    if(charge == '21-801' or charge == '13-409' or charge == '21-201' or charge == '21-112' or charge == '13-411'):\n",
    "        new_row = {'date_of_stop':date, 'time_of_stop':time, 'subagency':row[3],'description':row[4],\n",
    "                  'location':row[5],'state':row[6],'year':row[7],'make':row[8],'violation_type':row[9],\n",
    "                   'charge':charge,'race':row[11],'gender':row[12],'driver_city':row[13],'month':month}\n",
    "        dict.append(new_row)\n",
    "df_charge = pd.DataFrame.from_dict(dict)\n",
    "df_charge.head()"
   ]
  },
  {
   "cell_type": "raw",
   "metadata": {},
   "source": []
  },
  {
   "cell_type": "code",
   "execution_count": 5,
   "metadata": {},
   "outputs": [],
   "source": [
    "#Exploratory analysisawd"
   ]
  },
  {
   "cell_type": "code",
   "execution_count": 6,
   "metadata": {},
   "outputs": [
    {
     "data": {
      "text/plain": [
       "(array([68350.,     0.,     0.,     0.,     0., 31369.,     0.,     0.,\n",
       "            0.,   281.]),\n",
       " array([0. , 0.2, 0.4, 0.6, 0.8, 1. , 1.2, 1.4, 1.6, 1.8, 2. ]),\n",
       " <a list of 10 Patch objects>)"
      ]
     },
     "execution_count": 6,
     "metadata": {},
     "output_type": "execute_result"
    },
    {
     "data": {
      "image/png": "[encoded data removed]",
      "text/plain": [
       "<Figure size 720x504 with 1 Axes>"
      ]
     },
     "metadata": {
      "needs_background": "light"
     },
     "output_type": "display_data"
    }
   ],
   "source": [
    "#get a better visual of this by making a hist graph\n",
    "import matplotlib.pyplot as plt\n",
    "#who can compare it in many ways, such as gender\n",
    "plt.figure(figsize=(10,7))\n",
    "plt.title('Charge count') \n",
    "plt.xlabel(\"gender type\") \n",
    "plt.ylabel(\"amount\") \n",
    "plt.hist(df['gender'])"
   ]
  },
  {
   "cell_type": "code",
   "execution_count": 7,
   "metadata": {},
   "outputs": [
    {
     "data": {
      "text/plain": [
       "(array([40993.,     0.,     0.,     0.,     0., 55827.,     0.,     0.,\n",
       "            0.,  3180.]),\n",
       " array([0. , 0.2, 0.4, 0.6, 0.8, 1. , 1.2, 1.4, 1.6, 1.8, 2. ]),\n",
       " <a list of 10 Patch objects>)"
      ]
     },
     "execution_count": 7,
     "metadata": {},
     "output_type": "execute_result"
    },
    {
     "data": {
      "image/png": "[encoded data removed]",
      "text/plain": [
       "<Figure size 432x288 with 1 Axes>"
      ]
     },
     "metadata": {
      "needs_background": "light"
     },
     "output_type": "display_data"
    }
   ],
   "source": [
    "#make\n",
    "plt.title('Charge count') \n",
    "plt.xlabel(\"violation_type type\") \n",
    "plt.ylabel(\"amount\") \n",
    "plt.hist(df['violation_type'])"
   ]
  },
  {
   "cell_type": "code",
   "execution_count": 8,
   "metadata": {},
   "outputs": [
    {
     "data": {
      "text/plain": [
       "(array([9.5816e+04, 1.0950e+03, 1.6250e+03, 4.9600e+02, 5.0200e+02,\n",
       "        1.0100e+02, 1.7500e+02, 9.8000e+01, 7.8000e+01, 1.4000e+01]),\n",
       " array([ 0. ,  5.6, 11.2, 16.8, 22.4, 28. , 33.6, 39.2, 44.8, 50.4, 56. ]),\n",
       " <a list of 10 Patch objects>)"
      ]
     },
     "execution_count": 8,
     "metadata": {},
     "output_type": "execute_result"
    },
    {
     "data": {
      "image/png": "[encoded data removed]",
      "text/plain": [
       "<Figure size 720x504 with 1 Axes>"
      ]
     },
     "metadata": {
      "needs_background": "light"
     },
     "output_type": "display_data"
    }
   ],
   "source": [
    "#state\n",
    "plt.figure(figsize=(10,7))\n",
    "plt.title('Charge count') \n",
    "plt.xlabel(\"state type\") \n",
    "plt.ylabel(\"amount\") \n",
    "plt.hist(df['state'])"
   ]
  },
  {
   "cell_type": "code",
   "execution_count": 9,
   "metadata": {},
   "outputs": [
    {
     "data": {
      "text/plain": [
       "(array([18250.,     0.,  8598.,     0.,     0.,  3901.,     0.,  6652.,\n",
       "            0.,  2911.]),\n",
       " array([0. , 0.4, 0.8, 1.2, 1.6, 2. , 2.4, 2.8, 3.2, 3.6, 4. ]),\n",
       " <a list of 10 Patch objects>)"
      ]
     },
     "execution_count": 9,
     "metadata": {},
     "output_type": "execute_result"
    },
    {
     "data": {
      "image/png": "[encoded data removed]",
      "text/plain": [
       "<Figure size 432x288 with 1 Axes>"
      ]
     },
     "metadata": {
      "needs_background": "light"
     },
     "output_type": "display_data"
    }
   ],
   "source": [
    "#we are going to moslty focus on the charge type\n",
    "plt.title('Charge count') \n",
    "plt.xlabel(\"charge type\") \n",
    "plt.ylabel(\"amount\") \n",
    "plt.hist(df_charge['charge'])"
   ]
  },
  {
   "cell_type": "code",
   "execution_count": 10,
   "metadata": {},
   "outputs": [],
   "source": [
    "#to getting a better picture of the charges, go deeper into it\n",
    "#lets see how many charges happen on that what weekday\n"
   ]
  },
  {
   "cell_type": "code",
   "execution_count": 11,
   "metadata": {},
   "outputs": [
    {
     "data": {
      "text/plain": [
       "(array([5273., 7484.,    0., 7293.,    0., 6737., 6255.,    0., 3804.,\n",
       "        3466.]),\n",
       " array([0. , 0.6, 1.2, 1.8, 2.4, 3. , 3.6, 4.2, 4.8, 5.4, 6. ]),\n",
       " <a list of 10 Patch objects>)"
      ]
     },
     "execution_count": 11,
     "metadata": {},
     "output_type": "execute_result"
    },
    {
     "data": {
      "image/png": "[encoded data removed]",
      "text/plain": [
       "<Figure size 1440x504 with 1 Axes>"
      ]
     },
     "metadata": {
      "needs_background": "light"
     },
     "output_type": "display_data"
    }
   ],
   "source": [
    "plt.figure(figsize=(20,7))\n",
    "plt.title('Charge count') \n",
    "plt.xlabel(\"day\") \n",
    "plt.ylabel(\"amount\") \n",
    "plt.hist(df_charge['date_of_stop'],align='mid',edgecolor='red')"
   ]
  },
  {
   "cell_type": "code",
   "execution_count": 12,
   "metadata": {},
   "outputs": [
    {
     "data": {
      "image/png": "[encoded data removed]",
      "text/plain": [
       "<Figure size 576x504 with 1 Axes>"
      ]
     },
     "metadata": {
      "needs_background": "light"
     },
     "output_type": "display_data"
    }
   ],
   "source": [
    "#can make a plot on date x  and time y\n",
    "plt.figure(figsize=(8,7))\n",
    "plt.title('Charge count') \n",
    "plt.xlabel(\"day\") \n",
    "plt.ylabel(\"time\") \n",
    "plt.scatter(df_charge['date_of_stop'],df_charge['time_of_stop'])\n",
    "plt.show()\n",
    "#this looks like shit, so we can get a better visual if we make a violin plot"
   ]
  },
  {
   "cell_type": "code",
   "execution_count": 13,
   "metadata": {},
   "outputs": [
    {
     "data": {
      "text/plain": [
       "<matplotlib.axes._subplots.AxesSubplot at 0x7ffb28a27790>"
      ]
     },
     "execution_count": 13,
     "metadata": {},
     "output_type": "execute_result"
    },
    {
     "data": {
      "image/png": "[encoded data removed]",
      "text/plain": [
       "<Figure size 432x288 with 1 Axes>"
      ]
     },
     "metadata": {
      "needs_background": "light"
     },
     "output_type": "display_data"
    }
   ],
   "source": [
    "import seaborn as sns\n",
    "#can make a plot on date x  and time y\n",
    "sns.violinplot(x = df_charge['date_of_stop'], y= df_charge['time_of_stop'],cut=0)"
   ]
  },
  {
   "cell_type": "code",
   "execution_count": 14,
   "metadata": {},
   "outputs": [],
   "source": [
    "#looking at this, it looks like at 0 - 4(mon to fri), which is monday, a lot of people have traffic violations at aroung 9am to 3pm. \n",
    "# They are probably rushing to work or something and not obeying the laws!\n",
    "#the weekends, 5 and 6 seem to have more around 12am "
   ]
  },
  {
   "cell_type": "code",
   "execution_count": null,
   "metadata": {},
   "outputs": [],
   "source": []
  },
  {
   "cell_type": "code",
   "execution_count": 30,
   "metadata": {},
   "outputs": [
    {
     "data": {
      "text/plain": [
       "(array([3833., 5344., 4363., 5461., 9618.,    0., 2524.,    0., 1693.,\n",
       "           0., 1002., 1733., 1946., 2795.]),\n",
       " array([737333. , 737363.5, 737394. , 737424.5, 737455. , 737485.5,\n",
       "        737516. , 737546.5, 737577. , 737607.5, 737638. , 737668.5,\n",
       "        737699. , 737729.5, 737760. ]),\n",
       " <a list of 14 Patch objects>)"
      ]
     },
     "execution_count": 30,
     "metadata": {},
     "output_type": "execute_result"
    },
    {
     "data": {
      "image/png": "[encoded data removed]",
      "text/plain": [
       "<Figure size 1080x504 with 1 Axes>"
      ]
     },
     "metadata": {
      "needs_background": "light"
     },
     "output_type": "display_data"
    }
   ],
   "source": [
    "import numpy as np\n",
    "plt.figure(figsize=(15,7))\n",
    "plt.title('Charge count') \n",
    "plt.xlabel(\"month\") \n",
    "plt.ylabel(\"amount\") \n",
    "plt.hist((df_charge['month']),align='mid',edgecolor='red',bins = 14)"
   ]
  },
  {
   "cell_type": "code",
   "execution_count": 23,
   "metadata": {},
   "outputs": [],
   "source": [
    "#hypothesis testing and machine learning to provide analysis"
   ]
  },
  {
   "cell_type": "code",
   "execution_count": 24,
   "metadata": {},
   "outputs": [],
   "source": [
    "#this the hypo, we will test the amount of traffic voilations per month and try to predict the next month"
   ]
  },
  {
   "cell_type": "code",
   "execution_count": 25,
   "metadata": {},
   "outputs": [
    {
     "data": {
      "text/plain": [
       "[<matplotlib.lines.Line2D at 0x7ffb273809d0>]"
      ]
     },
     "execution_count": 25,
     "metadata": {},
     "output_type": "execute_result"
    },
    {
     "data": {
      "image/png": "[encoded data removed]",
      "text/plain": [
       "<Figure size 432x288 with 1 Axes>"
      ]
     },
     "metadata": {
      "needs_background": "light"
     },
     "output_type": "display_data"
    }
   ],
   "source": [
    "from sklearn import linear_model\n",
    "from sklearn import datasets\n",
    "#cant make a scatter plot for arrays of diff length(plt.scatter(df_charge['month'],max_count))\n",
    "#so we make a list of the unique months and the amount of charges for that uniqie month\n",
    "df_charge = df_charge.sort_values(by=['month'])\n",
    "max_count = []\n",
    "month_lst = []\n",
    "curr = df_charge['month'][0]\n",
    "month_count = 1\n",
    "#we are going to use linear_model.LinearRegression(), but it cant take in time objects when i want to use the reg.fit so we are going \n",
    "#to just keep track of the month by incrementing it by 1\n",
    "month_lst.append(month_count)\n",
    "count = 0\n",
    "for row in df_charge.itertuples():\n",
    "    if(curr == row[14]):\n",
    "        count = count + 1\n",
    "    else:\n",
    "        max_count.append(count)\n",
    "        count = 0\n",
    "        curr = row[14]\n",
    "        month_lst.append(month_count)\n",
    "        month_count = month_count + 1\n",
    "max_count.append(count)\n",
    "#both the start of the list is 0 so we can just remove the first index\n",
    "max_count = max_count[1:]\n",
    "month_lst = month_lst[1:]\n",
    "reg = linear_model.LinearRegression()\n",
    "monthArr = np.array([[y] for y in month_lst])\n",
    "countArr = np.array([[l] for l in max_count])\n",
    "reg.fit(monthArr,countArr)\n",
    "#plt.scatter(month_lst,max_count)\n",
    "plt.scatter(monthArr,countArr,color = 'g')\n",
    "plt.plot(monthArr,reg.predict(monthArr),color = 'k')"
   ]
  },
  {
   "cell_type": "code",
   "execution_count": 26,
   "metadata": {},
   "outputs": [
    {
     "data": {
      "text/plain": [
       "array([[-318.33928571]])"
      ]
     },
     "execution_count": 26,
     "metadata": {},
     "output_type": "execute_result"
    }
   ],
   "source": [
    "reg.coef_\n",
    "#so every time a month goes by, the excpeted number of traffic violations decrease by 353"
   ]
  },
  {
   "cell_type": "code",
   "execution_count": 29,
   "metadata": {},
   "outputs": [
    {
     "data": {
      "text/plain": [
       "array([[139.75238095]])"
      ]
     },
     "execution_count": 29,
     "metadata": {},
     "output_type": "execute_result"
    }
   ],
   "source": [
    "reg.predict([[15]])\n",
    "#if we try to predict the 15th month, you can see that we excpet the amoung of traffic violations to be 218"
   ]
  },
  {
   "cell_type": "code",
   "execution_count": 28,
   "metadata": {},
   "outputs": [
    {
     "data": {
      "text/plain": [
       "0.5333929471797563"
      ]
     },
     "execution_count": 28,
     "metadata": {},
     "output_type": "execute_result"
    }
   ],
   "source": [
    "reg.score(monthArr,countArr)\n",
    "#this is the R^2"
   ]
  },
  {
   "cell_type": "code",
   "execution_count": null,
   "metadata": {},
   "outputs": [],
   "source": [
    "#this does not seem accurate since if we try to predict the 17th month, you see that we end with a negative number\n",
    "#so what factors can cause this?\n",
    "#if you see around month 6 or 7, there is a hude drop in violations.\n",
    "#this is also when covid19 got serious and everything closed\n",
    "#so you might get a better prediction if you try a few years later or something"
   ]
  }
 ],
 "metadata": {
  "kernelspec": {
   "display_name": "Python 3",
   "language": "python",
   "name": "python3"
  },
  "language_info": {
   "codemirror_mode": {
    "name": "ipython",
    "version": 3
   },
   "file_extension": ".py",
   "mimetype": "text/x-python",
   "name": "python",
   "nbconvert_exporter": "python",
   "pygments_lexer": "ipython3",
   "version": "3.8.5"
  }
 },
 "nbformat": 4,
 "nbformat_minor": 4
}
